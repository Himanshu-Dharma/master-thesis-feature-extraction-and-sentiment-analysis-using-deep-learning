{
  "cells": [
    {
      "cell_type": "markdown",
      "metadata": {
        "id": "view-in-github",
        "colab_type": "text"
      },
      "source": [
        "<a href=\"https://colab.research.google.com/github/Himanshu-Dharma/master-thesis-feature-extraction-and-sentiment-analysis-using-deep-learning/blob/main/Thesis_Code.ipynb\" target=\"_parent\"><img src=\"https://colab.research.google.com/assets/colab-badge.svg\" alt=\"Open In Colab\"/></a>"
      ]
    },
    {
      "cell_type": "markdown",
      "source": [
        "# Data Description\n",
        "\n",
        "\n",
        "1. **reviewerID** - ID of the reviewer, e.g. A2SUAM1J3GNN3B\n",
        "2. **asin** - ID of the product, e.g. 0000013714\n",
        "3. **reviewerName** - name of the reviewer\n",
        "4. **vote** - helpful votes of the review\n",
        "5. **style** - a disctionary of the product metadata, e.g., \"Format\" is \"Hardcover\"\n",
        "6. **reviewText** - text of the review\n",
        "7. **overall** - rating of the product\n",
        "8. **summary** - summary of the review\n",
        "9. **unixReviewTime** - time of the review (unix time)\n",
        "10. **reviewTime** - time of the review (raw)\n",
        "11. **image** - images that users post after they have received the product"
      ],
      "metadata": {
        "id": "8X7G-9YZFVYz"
      }
    },
    {
      "cell_type": "code",
      "execution_count": 1,
      "metadata": {
        "colab": {
          "base_uri": "https://localhost:8080/"
        },
        "id": "S_BA9NfPBDBY",
        "outputId": "ddc6c0ad-2d8e-4792-caf1-ef79e3d0c887"
      },
      "outputs": [
        {
          "output_type": "stream",
          "name": "stdout",
          "text": [
            "Mounted at /content/drive\n"
          ]
        }
      ],
      "source": [
        "from google.colab import drive\n",
        "drive.mount('/content/drive')"
      ]
    },
    {
      "cell_type": "markdown",
      "source": [
        "# Libraries"
      ],
      "metadata": {
        "id": "zJ4_PPgMj2M5"
      }
    },
    {
      "cell_type": "code",
      "execution_count": 2,
      "metadata": {
        "id": "5Epa967vBmYk"
      },
      "outputs": [],
      "source": [
        "import os\n",
        "import pandas as pd\n",
        "import numpy as np\n",
        "import seaborn as sns\n",
        "import matplotlib.pyplot as plt\n",
        "import re"
      ]
    },
    {
      "cell_type": "markdown",
      "source": [
        "# Loading the data"
      ],
      "metadata": {
        "id": "okxQuaYFkJnF"
      }
    },
    {
      "cell_type": "code",
      "execution_count": 3,
      "metadata": {
        "id": "OF7ULS56EMrX"
      },
      "outputs": [],
      "source": [
        "df_primary = pd.read_json(\"/content/drive/MyDrive/ThesisData/thesis_data_primary.json\")"
      ]
    },
    {
      "cell_type": "markdown",
      "source": [
        "# Exploratory Data Analysis"
      ],
      "metadata": {
        "id": "o7pTVjgjkVf_"
      }
    },
    {
      "cell_type": "code",
      "source": [
        "df_primary.head(2)"
      ],
      "metadata": {
        "colab": {
          "base_uri": "https://localhost:8080/",
          "height": 0
        },
        "id": "HQexeTWU3eyU",
        "outputId": "0f64dbe7-0f0c-4bd8-901a-31134d8f2a1f"
      },
      "execution_count": 4,
      "outputs": [
        {
          "output_type": "execute_result",
          "data": {
            "text/plain": [
              "   overall vote  verified  reviewTime      reviewerID        asin  \\\n",
              "0        5   90     False  08 9, 2004   AXHY24HWOF184  0470536454   \n",
              "1        4    2      True  04 6, 2017  A29OWR79AM796H  0470536454   \n",
              "\n",
              "                       style     reviewerName  \\\n",
              "0  {'Format:': ' Paperback'}            Bendy   \n",
              "1  {'Format:': ' Hardcover'}  Amazon Customer   \n",
              "\n",
              "                                          reviewText  \\\n",
              "0  Crocheting for Dummies by Karen Manthey & Susa...   \n",
              "1                                    Very helpful...   \n",
              "\n",
              "                                         summary  unixReviewTime image  \n",
              "0  Terrific Book for Learning the Art of Crochet      1092009600   NaN  \n",
              "1                                     Four Stars      1491436800   NaN  "
            ],
            "text/html": [
              "\n",
              "  <div id=\"df-9b594662-9129-4449-9012-a4d2236c687d\">\n",
              "    <div class=\"colab-df-container\">\n",
              "      <div>\n",
              "<style scoped>\n",
              "    .dataframe tbody tr th:only-of-type {\n",
              "        vertical-align: middle;\n",
              "    }\n",
              "\n",
              "    .dataframe tbody tr th {\n",
              "        vertical-align: top;\n",
              "    }\n",
              "\n",
              "    .dataframe thead th {\n",
              "        text-align: right;\n",
              "    }\n",
              "</style>\n",
              "<table border=\"1\" class=\"dataframe\">\n",
              "  <thead>\n",
              "    <tr style=\"text-align: right;\">\n",
              "      <th></th>\n",
              "      <th>overall</th>\n",
              "      <th>vote</th>\n",
              "      <th>verified</th>\n",
              "      <th>reviewTime</th>\n",
              "      <th>reviewerID</th>\n",
              "      <th>asin</th>\n",
              "      <th>style</th>\n",
              "      <th>reviewerName</th>\n",
              "      <th>reviewText</th>\n",
              "      <th>summary</th>\n",
              "      <th>unixReviewTime</th>\n",
              "      <th>image</th>\n",
              "    </tr>\n",
              "  </thead>\n",
              "  <tbody>\n",
              "    <tr>\n",
              "      <th>0</th>\n",
              "      <td>5</td>\n",
              "      <td>90</td>\n",
              "      <td>False</td>\n",
              "      <td>08 9, 2004</td>\n",
              "      <td>AXHY24HWOF184</td>\n",
              "      <td>0470536454</td>\n",
              "      <td>{'Format:': ' Paperback'}</td>\n",
              "      <td>Bendy</td>\n",
              "      <td>Crocheting for Dummies by Karen Manthey &amp; Susa...</td>\n",
              "      <td>Terrific Book for Learning the Art of Crochet</td>\n",
              "      <td>1092009600</td>\n",
              "      <td>NaN</td>\n",
              "    </tr>\n",
              "    <tr>\n",
              "      <th>1</th>\n",
              "      <td>4</td>\n",
              "      <td>2</td>\n",
              "      <td>True</td>\n",
              "      <td>04 6, 2017</td>\n",
              "      <td>A29OWR79AM796H</td>\n",
              "      <td>0470536454</td>\n",
              "      <td>{'Format:': ' Hardcover'}</td>\n",
              "      <td>Amazon Customer</td>\n",
              "      <td>Very helpful...</td>\n",
              "      <td>Four Stars</td>\n",
              "      <td>1491436800</td>\n",
              "      <td>NaN</td>\n",
              "    </tr>\n",
              "  </tbody>\n",
              "</table>\n",
              "</div>\n",
              "      <button class=\"colab-df-convert\" onclick=\"convertToInteractive('df-9b594662-9129-4449-9012-a4d2236c687d')\"\n",
              "              title=\"Convert this dataframe to an interactive table.\"\n",
              "              style=\"display:none;\">\n",
              "        \n",
              "  <svg xmlns=\"http://www.w3.org/2000/svg\" height=\"24px\"viewBox=\"0 0 24 24\"\n",
              "       width=\"24px\">\n",
              "    <path d=\"M0 0h24v24H0V0z\" fill=\"none\"/>\n",
              "    <path d=\"M18.56 5.44l.94 2.06.94-2.06 2.06-.94-2.06-.94-.94-2.06-.94 2.06-2.06.94zm-11 1L8.5 8.5l.94-2.06 2.06-.94-2.06-.94L8.5 2.5l-.94 2.06-2.06.94zm10 10l.94 2.06.94-2.06 2.06-.94-2.06-.94-.94-2.06-.94 2.06-2.06.94z\"/><path d=\"M17.41 7.96l-1.37-1.37c-.4-.4-.92-.59-1.43-.59-.52 0-1.04.2-1.43.59L10.3 9.45l-7.72 7.72c-.78.78-.78 2.05 0 2.83L4 21.41c.39.39.9.59 1.41.59.51 0 1.02-.2 1.41-.59l7.78-7.78 2.81-2.81c.8-.78.8-2.07 0-2.86zM5.41 20L4 18.59l7.72-7.72 1.47 1.35L5.41 20z\"/>\n",
              "  </svg>\n",
              "      </button>\n",
              "      \n",
              "  <style>\n",
              "    .colab-df-container {\n",
              "      display:flex;\n",
              "      flex-wrap:wrap;\n",
              "      gap: 12px;\n",
              "    }\n",
              "\n",
              "    .colab-df-convert {\n",
              "      background-color: #E8F0FE;\n",
              "      border: none;\n",
              "      border-radius: 50%;\n",
              "      cursor: pointer;\n",
              "      display: none;\n",
              "      fill: #1967D2;\n",
              "      height: 32px;\n",
              "      padding: 0 0 0 0;\n",
              "      width: 32px;\n",
              "    }\n",
              "\n",
              "    .colab-df-convert:hover {\n",
              "      background-color: #E2EBFA;\n",
              "      box-shadow: 0px 1px 2px rgba(60, 64, 67, 0.3), 0px 1px 3px 1px rgba(60, 64, 67, 0.15);\n",
              "      fill: #174EA6;\n",
              "    }\n",
              "\n",
              "    [theme=dark] .colab-df-convert {\n",
              "      background-color: #3B4455;\n",
              "      fill: #D2E3FC;\n",
              "    }\n",
              "\n",
              "    [theme=dark] .colab-df-convert:hover {\n",
              "      background-color: #434B5C;\n",
              "      box-shadow: 0px 1px 3px 1px rgba(0, 0, 0, 0.15);\n",
              "      filter: drop-shadow(0px 1px 2px rgba(0, 0, 0, 0.3));\n",
              "      fill: #FFFFFF;\n",
              "    }\n",
              "  </style>\n",
              "\n",
              "      <script>\n",
              "        const buttonEl =\n",
              "          document.querySelector('#df-9b594662-9129-4449-9012-a4d2236c687d button.colab-df-convert');\n",
              "        buttonEl.style.display =\n",
              "          google.colab.kernel.accessAllowed ? 'block' : 'none';\n",
              "\n",
              "        async function convertToInteractive(key) {\n",
              "          const element = document.querySelector('#df-9b594662-9129-4449-9012-a4d2236c687d');\n",
              "          const dataTable =\n",
              "            await google.colab.kernel.invokeFunction('convertToInteractive',\n",
              "                                                     [key], {});\n",
              "          if (!dataTable) return;\n",
              "\n",
              "          const docLinkHtml = 'Like what you see? Visit the ' +\n",
              "            '<a target=\"_blank\" href=https://colab.research.google.com/notebooks/data_table.ipynb>data table notebook</a>'\n",
              "            + ' to learn more about interactive tables.';\n",
              "          element.innerHTML = '';\n",
              "          dataTable['output_type'] = 'display_data';\n",
              "          await google.colab.output.renderOutput(dataTable, element);\n",
              "          const docLink = document.createElement('div');\n",
              "          docLink.innerHTML = docLinkHtml;\n",
              "          element.appendChild(docLink);\n",
              "        }\n",
              "      </script>\n",
              "    </div>\n",
              "  </div>\n",
              "  "
            ]
          },
          "metadata": {},
          "execution_count": 4
        }
      ]
    },
    {
      "cell_type": "markdown",
      "source": [
        "## Checking for Null values"
      ],
      "metadata": {
        "id": "qKnZjJ2rlVeX"
      }
    },
    {
      "cell_type": "code",
      "source": [
        "#total number of rows and coluns in our dataset\n",
        "df_primary.shape"
      ],
      "metadata": {
        "colab": {
          "base_uri": "https://localhost:8080/"
        },
        "id": "BKEsePLVlxcJ",
        "outputId": "ab5b3439-2a1c-44de-c5c7-a62044bedaa5"
      },
      "execution_count": 5,
      "outputs": [
        {
          "output_type": "execute_result",
          "data": {
            "text/plain": [
              "(1512530, 12)"
            ]
          },
          "metadata": {},
          "execution_count": 5
        }
      ]
    },
    {
      "cell_type": "code",
      "source": [
        "#Total number of null values per column\n",
        "df_primary.isnull().sum()"
      ],
      "metadata": {
        "colab": {
          "base_uri": "https://localhost:8080/"
        },
        "id": "HnIUANJpla3_",
        "outputId": "bc1b6b63-8914-4509-8437-732d59a5c18a"
      },
      "execution_count": 6,
      "outputs": [
        {
          "output_type": "execute_result",
          "data": {
            "text/plain": [
              "overall                 0\n",
              "vote              1268582\n",
              "verified                0\n",
              "reviewTime              0\n",
              "reviewerID              0\n",
              "asin                    0\n",
              "style              839992\n",
              "reviewerName          150\n",
              "reviewText            855\n",
              "summary               380\n",
              "unixReviewTime          0\n",
              "image             1482365\n",
              "dtype: int64"
            ]
          },
          "metadata": {},
          "execution_count": 6
        }
      ]
    },
    {
      "cell_type": "markdown",
      "source": [
        "##Rating(star) Distribution"
      ],
      "metadata": {
        "id": "asMdAB0Tksaq"
      }
    },
    {
      "cell_type": "code",
      "source": [
        "df_overall = df_primary['overall'].value_counts()\n",
        "df_overall = df_overall.reset_index()\n",
        "df_overall.columns = ['Rating', 'Count']\n",
        "df_overall"
      ],
      "metadata": {
        "colab": {
          "base_uri": "https://localhost:8080/",
          "height": 0
        },
        "id": "xoXJHMUDe9VH",
        "outputId": "8fc170c6-efee-48ed-a1c2-77f00acb5d80"
      },
      "execution_count": 7,
      "outputs": [
        {
          "output_type": "execute_result",
          "data": {
            "text/plain": [
              "   Rating   Count\n",
              "0       5  984097\n",
              "1       4  237295\n",
              "2       1  118102\n",
              "3       3  106249\n",
              "4       2   66787"
            ],
            "text/html": [
              "\n",
              "  <div id=\"df-edef0969-bc96-457c-99fb-083ec36335d2\">\n",
              "    <div class=\"colab-df-container\">\n",
              "      <div>\n",
              "<style scoped>\n",
              "    .dataframe tbody tr th:only-of-type {\n",
              "        vertical-align: middle;\n",
              "    }\n",
              "\n",
              "    .dataframe tbody tr th {\n",
              "        vertical-align: top;\n",
              "    }\n",
              "\n",
              "    .dataframe thead th {\n",
              "        text-align: right;\n",
              "    }\n",
              "</style>\n",
              "<table border=\"1\" class=\"dataframe\">\n",
              "  <thead>\n",
              "    <tr style=\"text-align: right;\">\n",
              "      <th></th>\n",
              "      <th>Rating</th>\n",
              "      <th>Count</th>\n",
              "    </tr>\n",
              "  </thead>\n",
              "  <tbody>\n",
              "    <tr>\n",
              "      <th>0</th>\n",
              "      <td>5</td>\n",
              "      <td>984097</td>\n",
              "    </tr>\n",
              "    <tr>\n",
              "      <th>1</th>\n",
              "      <td>4</td>\n",
              "      <td>237295</td>\n",
              "    </tr>\n",
              "    <tr>\n",
              "      <th>2</th>\n",
              "      <td>1</td>\n",
              "      <td>118102</td>\n",
              "    </tr>\n",
              "    <tr>\n",
              "      <th>3</th>\n",
              "      <td>3</td>\n",
              "      <td>106249</td>\n",
              "    </tr>\n",
              "    <tr>\n",
              "      <th>4</th>\n",
              "      <td>2</td>\n",
              "      <td>66787</td>\n",
              "    </tr>\n",
              "  </tbody>\n",
              "</table>\n",
              "</div>\n",
              "      <button class=\"colab-df-convert\" onclick=\"convertToInteractive('df-edef0969-bc96-457c-99fb-083ec36335d2')\"\n",
              "              title=\"Convert this dataframe to an interactive table.\"\n",
              "              style=\"display:none;\">\n",
              "        \n",
              "  <svg xmlns=\"http://www.w3.org/2000/svg\" height=\"24px\"viewBox=\"0 0 24 24\"\n",
              "       width=\"24px\">\n",
              "    <path d=\"M0 0h24v24H0V0z\" fill=\"none\"/>\n",
              "    <path d=\"M18.56 5.44l.94 2.06.94-2.06 2.06-.94-2.06-.94-.94-2.06-.94 2.06-2.06.94zm-11 1L8.5 8.5l.94-2.06 2.06-.94-2.06-.94L8.5 2.5l-.94 2.06-2.06.94zm10 10l.94 2.06.94-2.06 2.06-.94-2.06-.94-.94-2.06-.94 2.06-2.06.94z\"/><path d=\"M17.41 7.96l-1.37-1.37c-.4-.4-.92-.59-1.43-.59-.52 0-1.04.2-1.43.59L10.3 9.45l-7.72 7.72c-.78.78-.78 2.05 0 2.83L4 21.41c.39.39.9.59 1.41.59.51 0 1.02-.2 1.41-.59l7.78-7.78 2.81-2.81c.8-.78.8-2.07 0-2.86zM5.41 20L4 18.59l7.72-7.72 1.47 1.35L5.41 20z\"/>\n",
              "  </svg>\n",
              "      </button>\n",
              "      \n",
              "  <style>\n",
              "    .colab-df-container {\n",
              "      display:flex;\n",
              "      flex-wrap:wrap;\n",
              "      gap: 12px;\n",
              "    }\n",
              "\n",
              "    .colab-df-convert {\n",
              "      background-color: #E8F0FE;\n",
              "      border: none;\n",
              "      border-radius: 50%;\n",
              "      cursor: pointer;\n",
              "      display: none;\n",
              "      fill: #1967D2;\n",
              "      height: 32px;\n",
              "      padding: 0 0 0 0;\n",
              "      width: 32px;\n",
              "    }\n",
              "\n",
              "    .colab-df-convert:hover {\n",
              "      background-color: #E2EBFA;\n",
              "      box-shadow: 0px 1px 2px rgba(60, 64, 67, 0.3), 0px 1px 3px 1px rgba(60, 64, 67, 0.15);\n",
              "      fill: #174EA6;\n",
              "    }\n",
              "\n",
              "    [theme=dark] .colab-df-convert {\n",
              "      background-color: #3B4455;\n",
              "      fill: #D2E3FC;\n",
              "    }\n",
              "\n",
              "    [theme=dark] .colab-df-convert:hover {\n",
              "      background-color: #434B5C;\n",
              "      box-shadow: 0px 1px 3px 1px rgba(0, 0, 0, 0.15);\n",
              "      filter: drop-shadow(0px 1px 2px rgba(0, 0, 0, 0.3));\n",
              "      fill: #FFFFFF;\n",
              "    }\n",
              "  </style>\n",
              "\n",
              "      <script>\n",
              "        const buttonEl =\n",
              "          document.querySelector('#df-edef0969-bc96-457c-99fb-083ec36335d2 button.colab-df-convert');\n",
              "        buttonEl.style.display =\n",
              "          google.colab.kernel.accessAllowed ? 'block' : 'none';\n",
              "\n",
              "        async function convertToInteractive(key) {\n",
              "          const element = document.querySelector('#df-edef0969-bc96-457c-99fb-083ec36335d2');\n",
              "          const dataTable =\n",
              "            await google.colab.kernel.invokeFunction('convertToInteractive',\n",
              "                                                     [key], {});\n",
              "          if (!dataTable) return;\n",
              "\n",
              "          const docLinkHtml = 'Like what you see? Visit the ' +\n",
              "            '<a target=\"_blank\" href=https://colab.research.google.com/notebooks/data_table.ipynb>data table notebook</a>'\n",
              "            + ' to learn more about interactive tables.';\n",
              "          element.innerHTML = '';\n",
              "          dataTable['output_type'] = 'display_data';\n",
              "          await google.colab.output.renderOutput(dataTable, element);\n",
              "          const docLink = document.createElement('div');\n",
              "          docLink.innerHTML = docLinkHtml;\n",
              "          element.appendChild(docLink);\n",
              "        }\n",
              "      </script>\n",
              "    </div>\n",
              "  </div>\n",
              "  "
            ]
          },
          "metadata": {},
          "execution_count": 7
        }
      ]
    },
    {
      "cell_type": "code",
      "source": [
        "plt.bar(df_overall['Rating'], df_overall['Count'], color=['#1f77b4', '#ff7f0e', '#2ca02c', '#d62728', '#9467bd'])\n",
        "\n",
        "# Adding labels and title\n",
        "plt.xlabel('Rating')\n",
        "plt.ylabel('Count')\n",
        "plt.title('Distribution of Ratings')\n",
        "\n",
        "# Adding numbers on top of each bar\n",
        "for i, value in enumerate(df_overall['Count']):\n",
        "    plt.annotate(str(value), (df_overall['Rating'][i], value), ha='center', va='bottom')\n",
        "\n",
        "# Setting the y-axis tick interval as the values in the data are > 100000\n",
        "plt.yticks(range(0, max(df_overall['Count']), int(max(df_overall['Count'])/10)))\n",
        "\n",
        "# Displaying the graph\n",
        "plt.show()"
      ],
      "metadata": {
        "colab": {
          "base_uri": "https://localhost:8080/",
          "height": 0
        },
        "id": "lC0DemjU_4oA",
        "outputId": "0592cb78-522b-4a74-be38-7e27fde64723"
      },
      "execution_count": 8,
      "outputs": [
        {
          "output_type": "display_data",
          "data": {
            "text/plain": [
              "<Figure size 640x480 with 1 Axes>"
            ],
            "image/png": "[encoded data removed]"
          },
          "metadata": {}
        }
      ]
    },
    {
      "cell_type": "markdown",
      "source": [
        "## Word cloud"
      ],
      "metadata": {
        "id": "VJoHCuB3WXPB"
      }
    },
    {
      "cell_type": "code",
      "source": [
        "#Word cloud\n",
        "from wordcloud import WordCloud\n",
        "\n",
        "#text column\n",
        "df_primary['reviewText'] = df_primary['reviewText'].astype(str)\n",
        "text_data = ' '.join(df_primary['reviewText'])\n",
        "\n",
        "# Creating a WordCloud object\n",
        "wordcloud = WordCloud(width=800, height=400, max_words=100, background_color='white').generate(text_data)\n",
        "\n",
        "# Displaying the word cloud using matplotlib\n",
        "plt.figure(figsize=(10, 5))\n",
        "plt.imshow(wordcloud, interpolation='bilinear')\n",
        "plt.axis('off')\n",
        "plt.show()"
      ],
      "metadata": {
        "colab": {
          "base_uri": "https://localhost:8080/",
          "height": 0
        },
        "id": "sfHdSU0WinJo",
        "outputId": "9c4cec7b-f554-4ebc-a91f-8e7ee5a79b3e"
      },
      "execution_count": 9,
      "outputs": [
        {
          "output_type": "display_data",
          "data": {
            "text/plain": [
              "<Figure size 1000x500 with 1 Axes>"
            ],
            "image/png": "[encoded data removed]"
          },
          "metadata": {}
        }
      ]
    },
    {
      "cell_type": "markdown",
      "source": [
        "## Unique product reviews\n",
        "\n"
      ],
      "metadata": {
        "id": "rBtScEWAlAR-"
      }
    },
    {
      "cell_type": "markdown",
      "source": [
        "**112222** Unique products are reviewed, and most reviewed product contains **5082** reviews."
      ],
      "metadata": {
        "id": "E2U7ocMbp95l"
      }
    },
    {
      "cell_type": "code",
      "source": [
        "products = df_primary.asin\n",
        "products.value_counts()"
      ],
      "metadata": {
        "colab": {
          "base_uri": "https://localhost:8080/"
        },
        "id": "-3aDl6Qzk_rE",
        "outputId": "f5a0a36e-6389-4b55-8eed-bb3598abcfd3"
      },
      "execution_count": 10,
      "outputs": [
        {
          "output_type": "execute_result",
          "data": {
            "text/plain": [
              "B000VSM4MS    5082\n",
              "B004XNK7AI    4704\n",
              "B00IFOTSJW    4110\n",
              "B000XI6O2W    3924\n",
              "B00XQFONF4    3901\n",
              "              ... \n",
              "B00GFRHD5W       1\n",
              "B00GFUU1IA       1\n",
              "B00GFU9PC8       1\n",
              "B0029BS3GG       1\n",
              "B01HJEFFTK       1\n",
              "Name: asin, Length: 112222, dtype: int64"
            ]
          },
          "metadata": {},
          "execution_count": 10
        }
      ]
    },
    {
      "cell_type": "code",
      "source": [
        "df_primary['reviewTime'] = pd.to_datetime(df_primary['reviewTime'], format='%m %d, %Y')"
      ],
      "metadata": {
        "id": "6ENPSFuSKzOV"
      },
      "execution_count": 11,
      "outputs": []
    },
    {
      "cell_type": "markdown",
      "source": [
        "## Unique users"
      ],
      "metadata": {
        "id": "tbzo8qePoIx5"
      }
    },
    {
      "cell_type": "markdown",
      "source": [
        "**903330** Unique Users posted reviews, and user with most reviews posted **506** reviews."
      ],
      "metadata": {
        "id": "RAtfQrVnpKtR"
      }
    },
    {
      "cell_type": "code",
      "source": [
        "user = df_primary.reviewerID\n",
        "user.value_counts()"
      ],
      "metadata": {
        "colab": {
          "base_uri": "https://localhost:8080/"
        },
        "id": "cUfVBpsopBMd",
        "outputId": "aab82e7e-fb78-4704-d793-8c41232c1f35"
      },
      "execution_count": 12,
      "outputs": [
        {
          "output_type": "execute_result",
          "data": {
            "text/plain": [
              "A2NYK9KWFMJV4Y    506\n",
              "A3YVD62FSVIUJ     275\n",
              "A396ELNTQDFYPO    226\n",
              "ADH0O8UVJOT10     193\n",
              "ALHC64J88LVWO     151\n",
              "                 ... \n",
              "A3KIXS1TR8C178      1\n",
              "AV4FOTICGNCKH       1\n",
              "AXXPHF223THY6       1\n",
              "A2U49PHFCOZGAC      1\n",
              "A3HAXIG8WVVDB7      1\n",
              "Name: reviewerID, Length: 903330, dtype: int64"
            ]
          },
          "metadata": {},
          "execution_count": 12
        }
      ]
    },
    {
      "cell_type": "markdown",
      "source": [
        "## Labeling positive and negative reviews"
      ],
      "metadata": {
        "id": "UitYJa_PoSst"
      }
    },
    {
      "cell_type": "markdown",
      "source": [
        "# Preprocessing the Data"
      ],
      "metadata": {
        "id": "mmvUkmubnl8T"
      }
    },
    {
      "cell_type": "markdown",
      "source": [
        "## Libraries"
      ],
      "metadata": {
        "id": "OaxjI07bD-Ng"
      }
    },
    {
      "cell_type": "code",
      "source": [
        "from bs4 import BeautifulSoup\n",
        "import spacy\n",
        "import gensim.downloader as api"
      ],
      "metadata": {
        "id": "YUBa5llXECJX"
      },
      "execution_count": 13,
      "outputs": []
    },
    {
      "cell_type": "markdown",
      "source": [
        "## Data cleaning"
      ],
      "metadata": {
        "id": "brX4YpyWSrl_"
      }
    },
    {
      "cell_type": "markdown",
      "source": [
        "### Missing values"
      ],
      "metadata": {
        "id": "PMxzkH9PEJ6C"
      }
    },
    {
      "cell_type": "code",
      "source": [
        "import pandas as pd\n",
        "\n",
        "# Assuming df is your DataFrame and 'column_name' is the name of the column to check\n",
        "threshold = 0.55  # Set the threshold as 55%\n",
        "\n",
        "for cname in df_primary:\n",
        "  missing_percentage = df_primary[cname].isnull().mean()  # Calculate the percentage of missing values\n",
        "  if missing_percentage >= threshold:\n",
        "    print(\"The column has {}% or more missing values.\".format(missing_percentage * 100))\n",
        "  else:\n",
        "    print(\"The column has less than {}% missing values.\".format(threshold * 100))"
      ],
      "metadata": {
        "id": "TYH5lpUwno_h",
        "colab": {
          "base_uri": "https://localhost:8080/"
        },
        "outputId": "9f6323de-79a6-4bc5-c7b6-45405be42fff"
      },
      "execution_count": 14,
      "outputs": [
        {
          "output_type": "stream",
          "name": "stdout",
          "text": [
            "The column has less than 55.00000000000001% missing values.\n",
            "The column has 83.87152651517655% or more missing values.\n",
            "The column has less than 55.00000000000001% missing values.\n",
            "The column has less than 55.00000000000001% missing values.\n",
            "The column has less than 55.00000000000001% missing values.\n",
            "The column has less than 55.00000000000001% missing values.\n",
            "The column has 55.53555962526363% or more missing values.\n",
            "The column has less than 55.00000000000001% missing values.\n",
            "The column has less than 55.00000000000001% missing values.\n",
            "The column has less than 55.00000000000001% missing values.\n",
            "The column has less than 55.00000000000001% missing values.\n",
            "The column has 98.00565939187983% or more missing values.\n"
          ]
        }
      ]
    },
    {
      "cell_type": "code",
      "source": [
        "df_new = df_primary.drop(columns=['vote','style','image'])"
      ],
      "metadata": {
        "id": "E6zVWbQZYqXs"
      },
      "execution_count": 15,
      "outputs": []
    },
    {
      "cell_type": "code",
      "source": [
        "# Assuming df is your DataFrame and 'column_name' is the name of the column with missing values\n",
        "column_name1 = 'reviewText'\n",
        "\n",
        "# Remove rows with missing values in the specified column\n",
        "df_new = df_new.dropna(subset=[column_name1])\n",
        "\n",
        "# Display the cleaned DataFrame\n",
        "print(df_new)"
      ],
      "metadata": {
        "colab": {
          "base_uri": "https://localhost:8080/"
        },
        "id": "ft8d6VuZrEpg",
        "outputId": "dcfde81e-2018-4014-8c57-98d03e137242"
      },
      "execution_count": 16,
      "outputs": [
        {
          "output_type": "stream",
          "name": "stdout",
          "text": [
            "         overall  verified reviewTime      reviewerID        asin  \\\n",
            "0              5     False 2004-08-09   AXHY24HWOF184  0470536454   \n",
            "1              4      True 2017-04-06  A29OWR79AM796H  0470536454   \n",
            "2              5      True 2017-03-14   AUPWU27A7X5F6  0470536454   \n",
            "3              4      True 2017-02-14  A1N69A47D4JO6K  0470536454   \n",
            "4              5      True 2017-01-29   AHTIQUMVCGBFJ  0470536454   \n",
            "...          ...       ...        ...             ...         ...   \n",
            "1512525        5      True 2018-06-11  A311NUWMD55WPO  B01HJETSF2   \n",
            "1512526        4      True 2018-06-07   AXJFL8T55OXJG  B01HJETSF2   \n",
            "1512527        5      True 2018-06-03  A1RHBI07JTQBER  B01HJETSF2   \n",
            "1512528        5      True 2018-05-29  A1V0G9QMGY1RGK  B01HJETSF2   \n",
            "1512529        5      True 2018-05-01  A25QCPUGH19GZU  B01HJETSF2   \n",
            "\n",
            "                reviewerName  \\\n",
            "0                      Bendy   \n",
            "1            Amazon Customer   \n",
            "2            Amazon Customer   \n",
            "3        Christopher Burnett   \n",
            "4            Amazon Customer   \n",
            "...                      ...   \n",
            "1512525              Jeffrey   \n",
            "1512526                 ryan   \n",
            "1512527             Cyclonus   \n",
            "1512528           Zach Smith   \n",
            "1512529             Lassiter   \n",
            "\n",
            "                                                reviewText  \\\n",
            "0        Crocheting for Dummies by Karen Manthey & Susa...   \n",
            "1                                          Very helpful...   \n",
            "2              EASY TO UNDERSTAND AND A PROMPT SERVICE TOO   \n",
            "3                            My girlfriend use quite often   \n",
            "4                        Arrived as described. Very happy.   \n",
            "...                                                    ...   \n",
            "1512525  Hard to believe anyone will play their prized ...   \n",
            "1512526  Straplocks installed nicely, good fitment on m...   \n",
            "1512527                                      Great Product   \n",
            "1512528  I honestly expected these to be cheap pieces o...   \n",
            "1512529  The straplocks work, look and fit very well!\\n...   \n",
            "\n",
            "                                               summary  unixReviewTime  \n",
            "0        Terrific Book for Learning the Art of Crochet      1092009600  \n",
            "1                                           Four Stars      1491436800  \n",
            "2                                           Five Stars      1489449600  \n",
            "3                                           Four Stars      1487030400  \n",
            "4                                          Very happy.      1485648000  \n",
            "...                                                ...             ...  \n",
            "1512525               Easy to install and does the job      1528675200  \n",
            "1512526                                         Worth.      1528329600  \n",
            "1512527                                  Great Product      1527984000  \n",
            "1512528                            A pleasant surprise      1527552000  \n",
            "1512529                                     Five Stars      1525132800  \n",
            "\n",
            "[1512530 rows x 9 columns]\n"
          ]
        }
      ]
    },
    {
      "cell_type": "code",
      "source": [
        "df_new.shape"
      ],
      "metadata": {
        "colab": {
          "base_uri": "https://localhost:8080/"
        },
        "id": "O8C7orN4rlRJ",
        "outputId": "b537c484-0eca-40c8-a911-3c5188f08edc"
      },
      "execution_count": 17,
      "outputs": [
        {
          "output_type": "execute_result",
          "data": {
            "text/plain": [
              "(1512530, 9)"
            ]
          },
          "metadata": {},
          "execution_count": 17
        }
      ]
    },
    {
      "cell_type": "code",
      "source": [
        "df_primary.shape"
      ],
      "metadata": {
        "colab": {
          "base_uri": "https://localhost:8080/"
        },
        "id": "FJhPYsKzrk5O",
        "outputId": "6dec7f7d-8459-4b29-e808-b90b623a1686"
      },
      "execution_count": 18,
      "outputs": [
        {
          "output_type": "execute_result",
          "data": {
            "text/plain": [
              "(1512530, 12)"
            ]
          },
          "metadata": {},
          "execution_count": 18
        }
      ]
    },
    {
      "cell_type": "code",
      "source": [
        "df_clean = df_new.drop(columns=['reviewerName','summary'])"
      ],
      "metadata": {
        "id": "-4_8NfIGvSIj"
      },
      "execution_count": 19,
      "outputs": []
    },
    {
      "cell_type": "code",
      "source": [
        "df_clean.head()"
      ],
      "metadata": {
        "colab": {
          "base_uri": "https://localhost:8080/",
          "height": 0
        },
        "id": "l92K5fQBvgKE",
        "outputId": "f0559531-c0bf-438d-d7fa-7dfdef56e14c"
      },
      "execution_count": 20,
      "outputs": [
        {
          "output_type": "execute_result",
          "data": {
            "text/plain": [
              "   overall  verified reviewTime      reviewerID        asin  \\\n",
              "0        5     False 2004-08-09   AXHY24HWOF184  0470536454   \n",
              "1        4      True 2017-04-06  A29OWR79AM796H  0470536454   \n",
              "2        5      True 2017-03-14   AUPWU27A7X5F6  0470536454   \n",
              "3        4      True 2017-02-14  A1N69A47D4JO6K  0470536454   \n",
              "4        5      True 2017-01-29   AHTIQUMVCGBFJ  0470536454   \n",
              "\n",
              "                                          reviewText  unixReviewTime  \n",
              "0  Crocheting for Dummies by Karen Manthey & Susa...      1092009600  \n",
              "1                                    Very helpful...      1491436800  \n",
              "2        EASY TO UNDERSTAND AND A PROMPT SERVICE TOO      1489449600  \n",
              "3                      My girlfriend use quite often      1487030400  \n",
              "4                  Arrived as described. Very happy.      1485648000  "
            ],
            "text/html": [
              "\n",
              "  <div id=\"df-4b44d85c-bf72-4842-be65-5954a11a7be9\">\n",
              "    <div class=\"colab-df-container\">\n",
              "      <div>\n",
              "<style scoped>\n",
              "    .dataframe tbody tr th:only-of-type {\n",
              "        vertical-align: middle;\n",
              "    }\n",
              "\n",
              "    .dataframe tbody tr th {\n",
              "        vertical-align: top;\n",
              "    }\n",
              "\n",
              "    .dataframe thead th {\n",
              "        text-align: right;\n",
              "    }\n",
              "</style>\n",
              "<table border=\"1\" class=\"dataframe\">\n",
              "  <thead>\n",
              "    <tr style=\"text-align: right;\">\n",
              "      <th></th>\n",
              "      <th>overall</th>\n",
              "      <th>verified</th>\n",
              "      <th>reviewTime</th>\n",
              "      <th>reviewerID</th>\n",
              "      <th>asin</th>\n",
              "      <th>reviewText</th>\n",
              "      <th>unixReviewTime</th>\n",
              "    </tr>\n",
              "  </thead>\n",
              "  <tbody>\n",
              "    <tr>\n",
              "      <th>0</th>\n",
              "      <td>5</td>\n",
              "      <td>False</td>\n",
              "      <td>2004-08-09</td>\n",
              "      <td>AXHY24HWOF184</td>\n",
              "      <td>0470536454</td>\n",
              "      <td>Crocheting for Dummies by Karen Manthey &amp; Susa...</td>\n",
              "      <td>1092009600</td>\n",
              "    </tr>\n",
              "    <tr>\n",
              "      <th>1</th>\n",
              "      <td>4</td>\n",
              "      <td>True</td>\n",
              "      <td>2017-04-06</td>\n",
              "      <td>A29OWR79AM796H</td>\n",
              "      <td>0470536454</td>\n",
              "      <td>Very helpful...</td>\n",
              "      <td>1491436800</td>\n",
              "    </tr>\n",
              "    <tr>\n",
              "      <th>2</th>\n",
              "      <td>5</td>\n",
              "      <td>True</td>\n",
              "      <td>2017-03-14</td>\n",
              "      <td>AUPWU27A7X5F6</td>\n",
              "      <td>0470536454</td>\n",
              "      <td>EASY TO UNDERSTAND AND A PROMPT SERVICE TOO</td>\n",
              "      <td>1489449600</td>\n",
              "    </tr>\n",
              "    <tr>\n",
              "      <th>3</th>\n",
              "      <td>4</td>\n",
              "      <td>True</td>\n",
              "      <td>2017-02-14</td>\n",
              "      <td>A1N69A47D4JO6K</td>\n",
              "      <td>0470536454</td>\n",
              "      <td>My girlfriend use quite often</td>\n",
              "      <td>1487030400</td>\n",
              "    </tr>\n",
              "    <tr>\n",
              "      <th>4</th>\n",
              "      <td>5</td>\n",
              "      <td>True</td>\n",
              "      <td>2017-01-29</td>\n",
              "      <td>AHTIQUMVCGBFJ</td>\n",
              "      <td>0470536454</td>\n",
              "      <td>Arrived as described. Very happy.</td>\n",
              "      <td>1485648000</td>\n",
              "    </tr>\n",
              "  </tbody>\n",
              "</table>\n",
              "</div>\n",
              "      <button class=\"colab-df-convert\" onclick=\"convertToInteractive('df-4b44d85c-bf72-4842-be65-5954a11a7be9')\"\n",
              "              title=\"Convert this dataframe to an interactive table.\"\n",
              "              style=\"display:none;\">\n",
              "        \n",
              "  <svg xmlns=\"http://www.w3.org/2000/svg\" height=\"24px\"viewBox=\"0 0 24 24\"\n",
              "       width=\"24px\">\n",
              "    <path d=\"M0 0h24v24H0V0z\" fill=\"none\"/>\n",
              "    <path d=\"M18.56 5.44l.94 2.06.94-2.06 2.06-.94-2.06-.94-.94-2.06-.94 2.06-2.06.94zm-11 1L8.5 8.5l.94-2.06 2.06-.94-2.06-.94L8.5 2.5l-.94 2.06-2.06.94zm10 10l.94 2.06.94-2.06 2.06-.94-2.06-.94-.94-2.06-.94 2.06-2.06.94z\"/><path d=\"M17.41 7.96l-1.37-1.37c-.4-.4-.92-.59-1.43-.59-.52 0-1.04.2-1.43.59L10.3 9.45l-7.72 7.72c-.78.78-.78 2.05 0 2.83L4 21.41c.39.39.9.59 1.41.59.51 0 1.02-.2 1.41-.59l7.78-7.78 2.81-2.81c.8-.78.8-2.07 0-2.86zM5.41 20L4 18.59l7.72-7.72 1.47 1.35L5.41 20z\"/>\n",
              "  </svg>\n",
              "      </button>\n",
              "      \n",
              "  <style>\n",
              "    .colab-df-container {\n",
              "      display:flex;\n",
              "      flex-wrap:wrap;\n",
              "      gap: 12px;\n",
              "    }\n",
              "\n",
              "    .colab-df-convert {\n",
              "      background-color: #E8F0FE;\n",
              "      border: none;\n",
              "      border-radius: 50%;\n",
              "      cursor: pointer;\n",
              "      display: none;\n",
              "      fill: #1967D2;\n",
              "      height: 32px;\n",
              "      padding: 0 0 0 0;\n",
              "      width: 32px;\n",
              "    }\n",
              "\n",
              "    .colab-df-convert:hover {\n",
              "      background-color: #E2EBFA;\n",
              "      box-shadow: 0px 1px 2px rgba(60, 64, 67, 0.3), 0px 1px 3px 1px rgba(60, 64, 67, 0.15);\n",
              "      fill: #174EA6;\n",
              "    }\n",
              "\n",
              "    [theme=dark] .colab-df-convert {\n",
              "      background-color: #3B4455;\n",
              "      fill: #D2E3FC;\n",
              "    }\n",
              "\n",
              "    [theme=dark] .colab-df-convert:hover {\n",
              "      background-color: #434B5C;\n",
              "      box-shadow: 0px 1px 3px 1px rgba(0, 0, 0, 0.15);\n",
              "      filter: drop-shadow(0px 1px 2px rgba(0, 0, 0, 0.3));\n",
              "      fill: #FFFFFF;\n",
              "    }\n",
              "  </style>\n",
              "\n",
              "      <script>\n",
              "        const buttonEl =\n",
              "          document.querySelector('#df-4b44d85c-bf72-4842-be65-5954a11a7be9 button.colab-df-convert');\n",
              "        buttonEl.style.display =\n",
              "          google.colab.kernel.accessAllowed ? 'block' : 'none';\n",
              "\n",
              "        async function convertToInteractive(key) {\n",
              "          const element = document.querySelector('#df-4b44d85c-bf72-4842-be65-5954a11a7be9');\n",
              "          const dataTable =\n",
              "            await google.colab.kernel.invokeFunction('convertToInteractive',\n",
              "                                                     [key], {});\n",
              "          if (!dataTable) return;\n",
              "\n",
              "          const docLinkHtml = 'Like what you see? Visit the ' +\n",
              "            '<a target=\"_blank\" href=https://colab.research.google.com/notebooks/data_table.ipynb>data table notebook</a>'\n",
              "            + ' to learn more about interactive tables.';\n",
              "          element.innerHTML = '';\n",
              "          dataTable['output_type'] = 'display_data';\n",
              "          await google.colab.output.renderOutput(dataTable, element);\n",
              "          const docLink = document.createElement('div');\n",
              "          docLink.innerHTML = docLinkHtml;\n",
              "          element.appendChild(docLink);\n",
              "        }\n",
              "      </script>\n",
              "    </div>\n",
              "  </div>\n",
              "  "
            ]
          },
          "metadata": {},
          "execution_count": 20
        }
      ]
    },
    {
      "cell_type": "markdown",
      "source": [
        "### Duplicates"
      ],
      "metadata": {
        "id": "loth8DQ1XrUV"
      }
    },
    {
      "cell_type": "code",
      "source": [
        "total_duplicates = df_clean.duplicated().sum()\n",
        "\n",
        "# Display the number of total duplicate rows\n",
        "print(\"Total duplicate rows:\", total_duplicates)"
      ],
      "metadata": {
        "colab": {
          "base_uri": "https://localhost:8080/"
        },
        "id": "LvAC2vOKVbrp",
        "outputId": "f296d936-9dcf-4ff1-de1d-724137f77235"
      },
      "execution_count": 21,
      "outputs": [
        {
          "output_type": "stream",
          "name": "stdout",
          "text": [
            "Total duplicate rows: 37619\n"
          ]
        }
      ]
    },
    {
      "cell_type": "code",
      "source": [
        "duplicate_rows1 = df_clean[df_clean.duplicated(keep=False)]\n"
      ],
      "metadata": {
        "id": "XhH0RC599BMW"
      },
      "execution_count": 22,
      "outputs": []
    },
    {
      "cell_type": "code",
      "source": [
        "duplicate_rows1"
      ],
      "metadata": {
        "colab": {
          "base_uri": "https://localhost:8080/",
          "height": 423
        },
        "id": "cW-HEhe499Tv",
        "outputId": "ffb20688-a60c-44fd-831a-25ba7285a984"
      },
      "execution_count": 23,
      "outputs": [
        {
          "output_type": "execute_result",
          "data": {
            "text/plain": [
              "         overall  verified reviewTime      reviewerID        asin  \\\n",
              "3919           5      True 2015-01-08   AH91ZJ8W8NCLR  B00005ML71   \n",
              "3920           5      True 2015-01-08   AH91ZJ8W8NCLR  B00005ML71   \n",
              "4888           5      True 2014-04-30  A10NPIQCB07BXZ  B000068NUQ   \n",
              "4889           5      True 2014-04-30  A10NPIQCB07BXZ  B000068NUQ   \n",
              "5026           5      True 2015-03-18  A1Y90O3KRCENSW  B000068NTU   \n",
              "...          ...       ...        ...             ...         ...   \n",
              "1491971        5      True 2018-07-26  A3IJSAWNZA89IF  B01C5S15H6   \n",
              "1491972        5      True 2018-07-26  A3IJSAWNZA89IF  B01C5S15H6   \n",
              "1491973        5      True 2018-07-26  A3IJSAWNZA89IF  B01C5S15H6   \n",
              "1504749        1      True 2017-03-17  A1QOF7FTFHVU22  B01FDHB9AY   \n",
              "1504750        1      True 2017-03-17  A1QOF7FTFHVU22  B01FDHB9AY   \n",
              "\n",
              "                                                reviewText  unixReviewTime  \n",
              "3919                                                    A+      1420675200  \n",
              "3920                                                    A+      1420675200  \n",
              "4888     The metal connectors have a quality look. They...      1398816000  \n",
              "4889     The metal connectors have a quality look. They...      1398816000  \n",
              "5026               Great product, performed as advertised.      1426636800  \n",
              "...                                                    ...             ...  \n",
              "1491971                  Great quality and looks stunning.      1532563200  \n",
              "1491972                  Great quality and looks stunning.      1532563200  \n",
              "1491973                  Great quality and looks stunning.      1532563200  \n",
              "1504749                          does not fit the epiphone      1489708800  \n",
              "1504750                          does not fit the epiphone      1489708800  \n",
              "\n",
              "[74999 rows x 7 columns]"
            ],
            "text/html": [
              "\n",
              "  <div id=\"df-5a68f4ac-5f68-42fb-8970-93f763d413b6\">\n",
              "    <div class=\"colab-df-container\">\n",
              "      <div>\n",
              "<style scoped>\n",
              "    .dataframe tbody tr th:only-of-type {\n",
              "        vertical-align: middle;\n",
              "    }\n",
              "\n",
              "    .dataframe tbody tr th {\n",
              "        vertical-align: top;\n",
              "    }\n",
              "\n",
              "    .dataframe thead th {\n",
              "        text-align: right;\n",
              "    }\n",
              "</style>\n",
              "<table border=\"1\" class=\"dataframe\">\n",
              "  <thead>\n",
              "    <tr style=\"text-align: right;\">\n",
              "      <th></th>\n",
              "      <th>overall</th>\n",
              "      <th>verified</th>\n",
              "      <th>reviewTime</th>\n",
              "      <th>reviewerID</th>\n",
              "      <th>asin</th>\n",
              "      <th>reviewText</th>\n",
              "      <th>unixReviewTime</th>\n",
              "    </tr>\n",
              "  </thead>\n",
              "  <tbody>\n",
              "    <tr>\n",
              "      <th>3919</th>\n",
              "      <td>5</td>\n",
              "      <td>True</td>\n",
              "      <td>2015-01-08</td>\n",
              "      <td>AH91ZJ8W8NCLR</td>\n",
              "      <td>B00005ML71</td>\n",
              "      <td>A+</td>\n",
              "      <td>1420675200</td>\n",
              "    </tr>\n",
              "    <tr>\n",
              "      <th>3920</th>\n",
              "      <td>5</td>\n",
              "      <td>True</td>\n",
              "      <td>2015-01-08</td>\n",
              "      <td>AH91ZJ8W8NCLR</td>\n",
              "      <td>B00005ML71</td>\n",
              "      <td>A+</td>\n",
              "      <td>1420675200</td>\n",
              "    </tr>\n",
              "    <tr>\n",
              "      <th>4888</th>\n",
              "      <td>5</td>\n",
              "      <td>True</td>\n",
              "      <td>2014-04-30</td>\n",
              "      <td>A10NPIQCB07BXZ</td>\n",
              "      <td>B000068NUQ</td>\n",
              "      <td>The metal connectors have a quality look. They...</td>\n",
              "      <td>1398816000</td>\n",
              "    </tr>\n",
              "    <tr>\n",
              "      <th>4889</th>\n",
              "      <td>5</td>\n",
              "      <td>True</td>\n",
              "      <td>2014-04-30</td>\n",
              "      <td>A10NPIQCB07BXZ</td>\n",
              "      <td>B000068NUQ</td>\n",
              "      <td>The metal connectors have a quality look. They...</td>\n",
              "      <td>1398816000</td>\n",
              "    </tr>\n",
              "    <tr>\n",
              "      <th>5026</th>\n",
              "      <td>5</td>\n",
              "      <td>True</td>\n",
              "      <td>2015-03-18</td>\n",
              "      <td>A1Y90O3KRCENSW</td>\n",
              "      <td>B000068NTU</td>\n",
              "      <td>Great product, performed as advertised.</td>\n",
              "      <td>1426636800</td>\n",
              "    </tr>\n",
              "    <tr>\n",
              "      <th>...</th>\n",
              "      <td>...</td>\n",
              "      <td>...</td>\n",
              "      <td>...</td>\n",
              "      <td>...</td>\n",
              "      <td>...</td>\n",
              "      <td>...</td>\n",
              "      <td>...</td>\n",
              "    </tr>\n",
              "    <tr>\n",
              "      <th>1491971</th>\n",
              "      <td>5</td>\n",
              "      <td>True</td>\n",
              "      <td>2018-07-26</td>\n",
              "      <td>A3IJSAWNZA89IF</td>\n",
              "      <td>B01C5S15H6</td>\n",
              "      <td>Great quality and looks stunning.</td>\n",
              "      <td>1532563200</td>\n",
              "    </tr>\n",
              "    <tr>\n",
              "      <th>1491972</th>\n",
              "      <td>5</td>\n",
              "      <td>True</td>\n",
              "      <td>2018-07-26</td>\n",
              "      <td>A3IJSAWNZA89IF</td>\n",
              "      <td>B01C5S15H6</td>\n",
              "      <td>Great quality and looks stunning.</td>\n",
              "      <td>1532563200</td>\n",
              "    </tr>\n",
              "    <tr>\n",
              "      <th>1491973</th>\n",
              "      <td>5</td>\n",
              "      <td>True</td>\n",
              "      <td>2018-07-26</td>\n",
              "      <td>A3IJSAWNZA89IF</td>\n",
              "      <td>B01C5S15H6</td>\n",
              "      <td>Great quality and looks stunning.</td>\n",
              "      <td>1532563200</td>\n",
              "    </tr>\n",
              "    <tr>\n",
              "      <th>1504749</th>\n",
              "      <td>1</td>\n",
              "      <td>True</td>\n",
              "      <td>2017-03-17</td>\n",
              "      <td>A1QOF7FTFHVU22</td>\n",
              "      <td>B01FDHB9AY</td>\n",
              "      <td>does not fit the epiphone</td>\n",
              "      <td>1489708800</td>\n",
              "    </tr>\n",
              "    <tr>\n",
              "      <th>1504750</th>\n",
              "      <td>1</td>\n",
              "      <td>True</td>\n",
              "      <td>2017-03-17</td>\n",
              "      <td>A1QOF7FTFHVU22</td>\n",
              "      <td>B01FDHB9AY</td>\n",
              "      <td>does not fit the epiphone</td>\n",
              "      <td>1489708800</td>\n",
              "    </tr>\n",
              "  </tbody>\n",
              "</table>\n",
              "<p>74999 rows × 7 columns</p>\n",
              "</div>\n",
              "      <button class=\"colab-df-convert\" onclick=\"convertToInteractive('df-5a68f4ac-5f68-42fb-8970-93f763d413b6')\"\n",
              "              title=\"Convert this dataframe to an interactive table.\"\n",
              "              style=\"display:none;\">\n",
              "        \n",
              "  <svg xmlns=\"http://www.w3.org/2000/svg\" height=\"24px\"viewBox=\"0 0 24 24\"\n",
              "       width=\"24px\">\n",
              "    <path d=\"M0 0h24v24H0V0z\" fill=\"none\"/>\n",
              "    <path d=\"M18.56 5.44l.94 2.06.94-2.06 2.06-.94-2.06-.94-.94-2.06-.94 2.06-2.06.94zm-11 1L8.5 8.5l.94-2.06 2.06-.94-2.06-.94L8.5 2.5l-.94 2.06-2.06.94zm10 10l.94 2.06.94-2.06 2.06-.94-2.06-.94-.94-2.06-.94 2.06-2.06.94z\"/><path d=\"M17.41 7.96l-1.37-1.37c-.4-.4-.92-.59-1.43-.59-.52 0-1.04.2-1.43.59L10.3 9.45l-7.72 7.72c-.78.78-.78 2.05 0 2.83L4 21.41c.39.39.9.59 1.41.59.51 0 1.02-.2 1.41-.59l7.78-7.78 2.81-2.81c.8-.78.8-2.07 0-2.86zM5.41 20L4 18.59l7.72-7.72 1.47 1.35L5.41 20z\"/>\n",
              "  </svg>\n",
              "      </button>\n",
              "      \n",
              "  <style>\n",
              "    .colab-df-container {\n",
              "      display:flex;\n",
              "      flex-wrap:wrap;\n",
              "      gap: 12px;\n",
              "    }\n",
              "\n",
              "    .colab-df-convert {\n",
              "      background-color: #E8F0FE;\n",
              "      border: none;\n",
              "      border-radius: 50%;\n",
              "      cursor: pointer;\n",
              "      display: none;\n",
              "      fill: #1967D2;\n",
              "      height: 32px;\n",
              "      padding: 0 0 0 0;\n",
              "      width: 32px;\n",
              "    }\n",
              "\n",
              "    .colab-df-convert:hover {\n",
              "      background-color: #E2EBFA;\n",
              "      box-shadow: 0px 1px 2px rgba(60, 64, 67, 0.3), 0px 1px 3px 1px rgba(60, 64, 67, 0.15);\n",
              "      fill: #174EA6;\n",
              "    }\n",
              "\n",
              "    [theme=dark] .colab-df-convert {\n",
              "      background-color: #3B4455;\n",
              "      fill: #D2E3FC;\n",
              "    }\n",
              "\n",
              "    [theme=dark] .colab-df-convert:hover {\n",
              "      background-color: #434B5C;\n",
              "      box-shadow: 0px 1px 3px 1px rgba(0, 0, 0, 0.15);\n",
              "      filter: drop-shadow(0px 1px 2px rgba(0, 0, 0, 0.3));\n",
              "      fill: #FFFFFF;\n",
              "    }\n",
              "  </style>\n",
              "\n",
              "      <script>\n",
              "        const buttonEl =\n",
              "          document.querySelector('#df-5a68f4ac-5f68-42fb-8970-93f763d413b6 button.colab-df-convert');\n",
              "        buttonEl.style.display =\n",
              "          google.colab.kernel.accessAllowed ? 'block' : 'none';\n",
              "\n",
              "        async function convertToInteractive(key) {\n",
              "          const element = document.querySelector('#df-5a68f4ac-5f68-42fb-8970-93f763d413b6');\n",
              "          const dataTable =\n",
              "            await google.colab.kernel.invokeFunction('convertToInteractive',\n",
              "                                                     [key], {});\n",
              "          if (!dataTable) return;\n",
              "\n",
              "          const docLinkHtml = 'Like what you see? Visit the ' +\n",
              "            '<a target=\"_blank\" href=https://colab.research.google.com/notebooks/data_table.ipynb>data table notebook</a>'\n",
              "            + ' to learn more about interactive tables.';\n",
              "          element.innerHTML = '';\n",
              "          dataTable['output_type'] = 'display_data';\n",
              "          await google.colab.output.renderOutput(dataTable, element);\n",
              "          const docLink = document.createElement('div');\n",
              "          docLink.innerHTML = docLinkHtml;\n",
              "          element.appendChild(docLink);\n",
              "        }\n",
              "      </script>\n",
              "    </div>\n",
              "  </div>\n",
              "  "
            ]
          },
          "metadata": {},
          "execution_count": 23
        }
      ]
    },
    {
      "cell_type": "code",
      "source": [
        "# The keep='first' parameter specifies to keep the first occurrence of each duplicated row and remove the subsequent duplicates.\n",
        "df_clean_no_dups = df_clean.drop_duplicates(keep='first')"
      ],
      "metadata": {
        "id": "M40hZquv-IIM"
      },
      "execution_count": 24,
      "outputs": []
    },
    {
      "cell_type": "code",
      "source": [
        "df_clean_no_dups['overall'].value_counts()"
      ],
      "metadata": {
        "colab": {
          "base_uri": "https://localhost:8080/"
        },
        "id": "KiHfwtu6LWrg",
        "outputId": "b77f2c85-636a-4c23-ec18-0ac169deda27"
      },
      "execution_count": 25,
      "outputs": [
        {
          "output_type": "execute_result",
          "data": {
            "text/plain": [
              "5    960812\n",
              "4    230948\n",
              "1    114729\n",
              "3    103417\n",
              "2     65005\n",
              "Name: overall, dtype: int64"
            ]
          },
          "metadata": {},
          "execution_count": 25
        }
      ]
    },
    {
      "cell_type": "code",
      "source": [
        "df_clean_no_dups"
      ],
      "metadata": {
        "colab": {
          "base_uri": "https://localhost:8080/",
          "height": 423
        },
        "id": "W6r7L9EJYA8F",
        "outputId": "455e65fb-4237-4b98-d66e-b93ca4fef461"
      },
      "execution_count": 26,
      "outputs": [
        {
          "output_type": "execute_result",
          "data": {
            "text/plain": [
              "         overall  verified reviewTime      reviewerID        asin  \\\n",
              "0              5     False 2004-08-09   AXHY24HWOF184  0470536454   \n",
              "1              4      True 2017-04-06  A29OWR79AM796H  0470536454   \n",
              "2              5      True 2017-03-14   AUPWU27A7X5F6  0470536454   \n",
              "3              4      True 2017-02-14  A1N69A47D4JO6K  0470536454   \n",
              "4              5      True 2017-01-29   AHTIQUMVCGBFJ  0470536454   \n",
              "...          ...       ...        ...             ...         ...   \n",
              "1512525        5      True 2018-06-11  A311NUWMD55WPO  B01HJETSF2   \n",
              "1512526        4      True 2018-06-07   AXJFL8T55OXJG  B01HJETSF2   \n",
              "1512527        5      True 2018-06-03  A1RHBI07JTQBER  B01HJETSF2   \n",
              "1512528        5      True 2018-05-29  A1V0G9QMGY1RGK  B01HJETSF2   \n",
              "1512529        5      True 2018-05-01  A25QCPUGH19GZU  B01HJETSF2   \n",
              "\n",
              "                                                reviewText  unixReviewTime  \n",
              "0        Crocheting for Dummies by Karen Manthey & Susa...      1092009600  \n",
              "1                                          Very helpful...      1491436800  \n",
              "2              EASY TO UNDERSTAND AND A PROMPT SERVICE TOO      1489449600  \n",
              "3                            My girlfriend use quite often      1487030400  \n",
              "4                        Arrived as described. Very happy.      1485648000  \n",
              "...                                                    ...             ...  \n",
              "1512525  Hard to believe anyone will play their prized ...      1528675200  \n",
              "1512526  Straplocks installed nicely, good fitment on m...      1528329600  \n",
              "1512527                                      Great Product      1527984000  \n",
              "1512528  I honestly expected these to be cheap pieces o...      1527552000  \n",
              "1512529  The straplocks work, look and fit very well!\\n...      1525132800  \n",
              "\n",
              "[1474911 rows x 7 columns]"
            ],
            "text/html": [
              "\n",
              "  <div id=\"df-d476c30d-29d5-46d3-b0d0-b489f3241fa3\">\n",
              "    <div class=\"colab-df-container\">\n",
              "      <div>\n",
              "<style scoped>\n",
              "    .dataframe tbody tr th:only-of-type {\n",
              "        vertical-align: middle;\n",
              "    }\n",
              "\n",
              "    .dataframe tbody tr th {\n",
              "        vertical-align: top;\n",
              "    }\n",
              "\n",
              "    .dataframe thead th {\n",
              "        text-align: right;\n",
              "    }\n",
              "</style>\n",
              "<table border=\"1\" class=\"dataframe\">\n",
              "  <thead>\n",
              "    <tr style=\"text-align: right;\">\n",
              "      <th></th>\n",
              "      <th>overall</th>\n",
              "      <th>verified</th>\n",
              "      <th>reviewTime</th>\n",
              "      <th>reviewerID</th>\n",
              "      <th>asin</th>\n",
              "      <th>reviewText</th>\n",
              "      <th>unixReviewTime</th>\n",
              "    </tr>\n",
              "  </thead>\n",
              "  <tbody>\n",
              "    <tr>\n",
              "      <th>0</th>\n",
              "      <td>5</td>\n",
              "      <td>False</td>\n",
              "      <td>2004-08-09</td>\n",
              "      <td>AXHY24HWOF184</td>\n",
              "      <td>0470536454</td>\n",
              "      <td>Crocheting for Dummies by Karen Manthey &amp; Susa...</td>\n",
              "      <td>1092009600</td>\n",
              "    </tr>\n",
              "    <tr>\n",
              "      <th>1</th>\n",
              "      <td>4</td>\n",
              "      <td>True</td>\n",
              "      <td>2017-04-06</td>\n",
              "      <td>A29OWR79AM796H</td>\n",
              "      <td>0470536454</td>\n",
              "      <td>Very helpful...</td>\n",
              "      <td>1491436800</td>\n",
              "    </tr>\n",
              "    <tr>\n",
              "      <th>2</th>\n",
              "      <td>5</td>\n",
              "      <td>True</td>\n",
              "      <td>2017-03-14</td>\n",
              "      <td>AUPWU27A7X5F6</td>\n",
              "      <td>0470536454</td>\n",
              "      <td>EASY TO UNDERSTAND AND A PROMPT SERVICE TOO</td>\n",
              "      <td>1489449600</td>\n",
              "    </tr>\n",
              "    <tr>\n",
              "      <th>3</th>\n",
              "      <td>4</td>\n",
              "      <td>True</td>\n",
              "      <td>2017-02-14</td>\n",
              "      <td>A1N69A47D4JO6K</td>\n",
              "      <td>0470536454</td>\n",
              "      <td>My girlfriend use quite often</td>\n",
              "      <td>1487030400</td>\n",
              "    </tr>\n",
              "    <tr>\n",
              "      <th>4</th>\n",
              "      <td>5</td>\n",
              "      <td>True</td>\n",
              "      <td>2017-01-29</td>\n",
              "      <td>AHTIQUMVCGBFJ</td>\n",
              "      <td>0470536454</td>\n",
              "      <td>Arrived as described. Very happy.</td>\n",
              "      <td>1485648000</td>\n",
              "    </tr>\n",
              "    <tr>\n",
              "      <th>...</th>\n",
              "      <td>...</td>\n",
              "      <td>...</td>\n",
              "      <td>...</td>\n",
              "      <td>...</td>\n",
              "      <td>...</td>\n",
              "      <td>...</td>\n",
              "      <td>...</td>\n",
              "    </tr>\n",
              "    <tr>\n",
              "      <th>1512525</th>\n",
              "      <td>5</td>\n",
              "      <td>True</td>\n",
              "      <td>2018-06-11</td>\n",
              "      <td>A311NUWMD55WPO</td>\n",
              "      <td>B01HJETSF2</td>\n",
              "      <td>Hard to believe anyone will play their prized ...</td>\n",
              "      <td>1528675200</td>\n",
              "    </tr>\n",
              "    <tr>\n",
              "      <th>1512526</th>\n",
              "      <td>4</td>\n",
              "      <td>True</td>\n",
              "      <td>2018-06-07</td>\n",
              "      <td>AXJFL8T55OXJG</td>\n",
              "      <td>B01HJETSF2</td>\n",
              "      <td>Straplocks installed nicely, good fitment on m...</td>\n",
              "      <td>1528329600</td>\n",
              "    </tr>\n",
              "    <tr>\n",
              "      <th>1512527</th>\n",
              "      <td>5</td>\n",
              "      <td>True</td>\n",
              "      <td>2018-06-03</td>\n",
              "      <td>A1RHBI07JTQBER</td>\n",
              "      <td>B01HJETSF2</td>\n",
              "      <td>Great Product</td>\n",
              "      <td>1527984000</td>\n",
              "    </tr>\n",
              "    <tr>\n",
              "      <th>1512528</th>\n",
              "      <td>5</td>\n",
              "      <td>True</td>\n",
              "      <td>2018-05-29</td>\n",
              "      <td>A1V0G9QMGY1RGK</td>\n",
              "      <td>B01HJETSF2</td>\n",
              "      <td>I honestly expected these to be cheap pieces o...</td>\n",
              "      <td>1527552000</td>\n",
              "    </tr>\n",
              "    <tr>\n",
              "      <th>1512529</th>\n",
              "      <td>5</td>\n",
              "      <td>True</td>\n",
              "      <td>2018-05-01</td>\n",
              "      <td>A25QCPUGH19GZU</td>\n",
              "      <td>B01HJETSF2</td>\n",
              "      <td>The straplocks work, look and fit very well!\\n...</td>\n",
              "      <td>1525132800</td>\n",
              "    </tr>\n",
              "  </tbody>\n",
              "</table>\n",
              "<p>1474911 rows × 7 columns</p>\n",
              "</div>\n",
              "      <button class=\"colab-df-convert\" onclick=\"convertToInteractive('df-d476c30d-29d5-46d3-b0d0-b489f3241fa3')\"\n",
              "              title=\"Convert this dataframe to an interactive table.\"\n",
              "              style=\"display:none;\">\n",
              "        \n",
              "  <svg xmlns=\"http://www.w3.org/2000/svg\" height=\"24px\"viewBox=\"0 0 24 24\"\n",
              "       width=\"24px\">\n",
              "    <path d=\"M0 0h24v24H0V0z\" fill=\"none\"/>\n",
              "    <path d=\"M18.56 5.44l.94 2.06.94-2.06 2.06-.94-2.06-.94-.94-2.06-.94 2.06-2.06.94zm-11 1L8.5 8.5l.94-2.06 2.06-.94-2.06-.94L8.5 2.5l-.94 2.06-2.06.94zm10 10l.94 2.06.94-2.06 2.06-.94-2.06-.94-.94-2.06-.94 2.06-2.06.94z\"/><path d=\"M17.41 7.96l-1.37-1.37c-.4-.4-.92-.59-1.43-.59-.52 0-1.04.2-1.43.59L10.3 9.45l-7.72 7.72c-.78.78-.78 2.05 0 2.83L4 21.41c.39.39.9.59 1.41.59.51 0 1.02-.2 1.41-.59l7.78-7.78 2.81-2.81c.8-.78.8-2.07 0-2.86zM5.41 20L4 18.59l7.72-7.72 1.47 1.35L5.41 20z\"/>\n",
              "  </svg>\n",
              "      </button>\n",
              "      \n",
              "  <style>\n",
              "    .colab-df-container {\n",
              "      display:flex;\n",
              "      flex-wrap:wrap;\n",
              "      gap: 12px;\n",
              "    }\n",
              "\n",
              "    .colab-df-convert {\n",
              "      background-color: #E8F0FE;\n",
              "      border: none;\n",
              "      border-radius: 50%;\n",
              "      cursor: pointer;\n",
              "      display: none;\n",
              "      fill: #1967D2;\n",
              "      height: 32px;\n",
              "      padding: 0 0 0 0;\n",
              "      width: 32px;\n",
              "    }\n",
              "\n",
              "    .colab-df-convert:hover {\n",
              "      background-color: #E2EBFA;\n",
              "      box-shadow: 0px 1px 2px rgba(60, 64, 67, 0.3), 0px 1px 3px 1px rgba(60, 64, 67, 0.15);\n",
              "      fill: #174EA6;\n",
              "    }\n",
              "\n",
              "    [theme=dark] .colab-df-convert {\n",
              "      background-color: #3B4455;\n",
              "      fill: #D2E3FC;\n",
              "    }\n",
              "\n",
              "    [theme=dark] .colab-df-convert:hover {\n",
              "      background-color: #434B5C;\n",
              "      box-shadow: 0px 1px 3px 1px rgba(0, 0, 0, 0.15);\n",
              "      filter: drop-shadow(0px 1px 2px rgba(0, 0, 0, 0.3));\n",
              "      fill: #FFFFFF;\n",
              "    }\n",
              "  </style>\n",
              "\n",
              "      <script>\n",
              "        const buttonEl =\n",
              "          document.querySelector('#df-d476c30d-29d5-46d3-b0d0-b489f3241fa3 button.colab-df-convert');\n",
              "        buttonEl.style.display =\n",
              "          google.colab.kernel.accessAllowed ? 'block' : 'none';\n",
              "\n",
              "        async function convertToInteractive(key) {\n",
              "          const element = document.querySelector('#df-d476c30d-29d5-46d3-b0d0-b489f3241fa3');\n",
              "          const dataTable =\n",
              "            await google.colab.kernel.invokeFunction('convertToInteractive',\n",
              "                                                     [key], {});\n",
              "          if (!dataTable) return;\n",
              "\n",
              "          const docLinkHtml = 'Like what you see? Visit the ' +\n",
              "            '<a target=\"_blank\" href=https://colab.research.google.com/notebooks/data_table.ipynb>data table notebook</a>'\n",
              "            + ' to learn more about interactive tables.';\n",
              "          element.innerHTML = '';\n",
              "          dataTable['output_type'] = 'display_data';\n",
              "          await google.colab.output.renderOutput(dataTable, element);\n",
              "          const docLink = document.createElement('div');\n",
              "          docLink.innerHTML = docLinkHtml;\n",
              "          element.appendChild(docLink);\n",
              "        }\n",
              "      </script>\n",
              "    </div>\n",
              "  </div>\n",
              "  "
            ]
          },
          "metadata": {},
          "execution_count": 26
        }
      ]
    },
    {
      "cell_type": "markdown",
      "source": [],
      "metadata": {
        "id": "8A4OgUD8xy2T"
      }
    },
    {
      "cell_type": "markdown",
      "source": [
        "### Removing HTML Tags"
      ],
      "metadata": {
        "id": "N_P6cX4VESzR"
      }
    },
    {
      "cell_type": "code",
      "source": [
        "def strip_html_tags(text):\n",
        "    \"\"\"remove html tags from text\"\"\"\n",
        "    soup = BeautifulSoup(text, \"html.parser\")\n",
        "    stripped_text = soup.get_text(separator=\" \")\n",
        "    return stripped_text"
      ],
      "metadata": {
        "id": "W6c9_P-sEWuX"
      },
      "execution_count": 27,
      "outputs": []
    },
    {
      "cell_type": "markdown",
      "source": [
        "### Removing Punctuation"
      ],
      "metadata": {
        "id": "_Dp2Iz0TEXkW"
      }
    },
    {
      "cell_type": "code",
      "source": [
        "import string"
      ],
      "metadata": {
        "id": "fCwj7yQrEblO"
      },
      "execution_count": 28,
      "outputs": []
    },
    {
      "cell_type": "code",
      "source": [
        "def remove_punc(text):\n",
        "  \"\"\" Remove puncuation \"\"\"\n",
        "  text = re.sub(r'[^\\w\\s]','',text)\n",
        "  return text"
      ],
      "metadata": {
        "id": "2VmDL6CmFQ0v"
      },
      "execution_count": 29,
      "outputs": []
    },
    {
      "cell_type": "markdown",
      "source": [
        "### Removing White spaces"
      ],
      "metadata": {
        "id": "c9YGtsRWEcfT"
      }
    },
    {
      "cell_type": "code",
      "source": [
        "def remove_whitespace(text):\n",
        "    \"\"\"remove extra whitespaces from text\"\"\"\n",
        "    text = text.strip()\n",
        "    return \" \".join(text.split())"
      ],
      "metadata": {
        "id": "sMKcLuRdEenb"
      },
      "execution_count": 30,
      "outputs": []
    },
    {
      "cell_type": "markdown",
      "source": [
        "### All lower case"
      ],
      "metadata": {
        "id": "Gg3XGJSkEfUb"
      }
    },
    {
      "cell_type": "code",
      "source": [
        "def lowercase(text):\n",
        "    \"\"\"lowercase\"\"\"\n",
        "    text = text.lower()\n",
        "    return text"
      ],
      "metadata": {
        "id": "saHZpCwqEjIx"
      },
      "execution_count": 31,
      "outputs": []
    },
    {
      "cell_type": "markdown",
      "source": [
        "### Converting accented characters"
      ],
      "metadata": {
        "id": "F6uyRaDMEjq6"
      }
    },
    {
      "cell_type": "code",
      "source": [
        "!pip install unidecode\n",
        "import unidecode"
      ],
      "metadata": {
        "colab": {
          "base_uri": "https://localhost:8080/"
        },
        "id": "qURRAJfKEoEa",
        "outputId": "b7aa7c1d-2afd-4062-abd1-23ff1888b157"
      },
      "execution_count": 32,
      "outputs": [
        {
          "output_type": "stream",
          "name": "stdout",
          "text": [
            "Collecting unidecode\n",
            "  Downloading Unidecode-1.3.6-py3-none-any.whl (235 kB)\n",
            "\u001b[?25l     \u001b[90m━━━━━━━━━━━━━━━━━━━━━━━━━━━━━━━━━━━━━━━━\u001b[0m \u001b[32m0.0/235.9 kB\u001b[0m \u001b[31m?\u001b[0m eta \u001b[36m-:--:--\u001b[0m\r\u001b[2K     \u001b[91m━━━━━━━━━━━━━━━━━━━━━━━━━━━━━━━━━━━━━━\u001b[0m\u001b[91m╸\u001b[0m \u001b[32m235.5/235.9 kB\u001b[0m \u001b[31m9.2 MB/s\u001b[0m eta \u001b[36m0:00:01\u001b[0m\r\u001b[2K     \u001b[90m━━━━━━━━━━━━━━━━━━━━━━━━━━━━━━━━━━━━━━━\u001b[0m \u001b[32m235.9/235.9 kB\u001b[0m \u001b[31m6.3 MB/s\u001b[0m eta \u001b[36m0:00:00\u001b[0m\n",
            "\u001b[?25hInstalling collected packages: unidecode\n",
            "Successfully installed unidecode-1.3.6\n"
          ]
        }
      ]
    },
    {
      "cell_type": "code",
      "source": [
        "def remove_accented_chars(text):\n",
        "    \"\"\"remove accented characters\"\"\"\n",
        "    text = unidecode.unidecode(text)\n",
        "    return text"
      ],
      "metadata": {
        "id": "upVgfWDtFZF3"
      },
      "execution_count": 33,
      "outputs": []
    },
    {
      "cell_type": "markdown",
      "source": [
        "### Stop word removal"
      ],
      "metadata": {
        "id": "zy1dIP0DP7j0"
      }
    },
    {
      "cell_type": "code",
      "source": [
        "import nltk\n",
        "from nltk.corpus import stopwords\n",
        "from nltk.tokenize import word_tokenize\n",
        "\n",
        "# Download the stopwords corpus if not already downloaded\n",
        "nltk.download('stopwords')\n",
        "nltk.download('punkt')\n",
        "\n",
        "def stop_word_removal(text):\n",
        "  # Set the stop words for the specific language\n",
        "  stop_words = set(stopwords.words('english'))\n",
        "\n",
        "  # Tokenize the sentence\n",
        "  tokens = word_tokenize(text)\n",
        "\n",
        "  # Remove stop words from the tokens\n",
        "  filtered_tokens = [word for word in tokens if word.lower() not in stop_words]\n",
        "\n",
        "  # Join the filtered tokens back into a sentence\n",
        "  filtered_sentence = ' '.join(filtered_tokens)\n",
        "\n",
        "  return filtered_sentence"
      ],
      "metadata": {
        "colab": {
          "base_uri": "https://localhost:8080/"
        },
        "id": "OllqZwkLQBCY",
        "outputId": "dc6fdb13-eeb5-4181-d18c-aca25a8f80dd"
      },
      "execution_count": 45,
      "outputs": [
        {
          "output_type": "stream",
          "name": "stderr",
          "text": [
            "[nltk_data] Downloading package stopwords to /root/nltk_data...\n",
            "[nltk_data]   Package stopwords is already up-to-date!\n",
            "[nltk_data] Downloading package punkt to /root/nltk_data...\n",
            "[nltk_data]   Package punkt is already up-to-date!\n"
          ]
        }
      ]
    },
    {
      "cell_type": "markdown",
      "source": [
        "### Applying cleaning functions\n",
        "\n",
        "\n",
        "*   To remove Html tags\n",
        "*   White spaces\n",
        "*   punctuations\n",
        "*   Convert to lower case\n",
        "*   Converting accented characters\n",
        "\n",
        "\n",
        "\n"
      ],
      "metadata": {
        "id": "_mPQ-dROErHK"
      }
    },
    {
      "cell_type": "code",
      "source": [
        "def clean(text):\n",
        "  #html removal:\n",
        "  text = strip_html_tags(text)\n",
        "  #removing extra Whitespace:\n",
        "  text= remove_whitespace(text)\n",
        "  #all lowercase:\n",
        "  text = lowercase(text)\n",
        "  #Converting Accented Charachters:\n",
        "  text = remove_accented_chars(text)\n",
        "  #Removing punctuation:\n",
        "  text= remove_punc(text)\n",
        "  return text\n",
        "  #stop word removal"
      ],
      "metadata": {
        "id": "FFPT5M0QE7q7"
      },
      "execution_count": 46,
      "outputs": []
    },
    {
      "cell_type": "code",
      "source": [
        "## Use df_clean_no_dups dataframe\n",
        "\n",
        "df_pre = df_clean_no_dups[[\"overall\",\"reviewText\"]]\n",
        "df_pre['reviewText'] = df_pre['reviewText'].apply(clean)\n",
        "df_pre.tail(3)"
      ],
      "metadata": {
        "colab": {
          "base_uri": "https://localhost:8080/",
          "height": 337
        },
        "id": "OlHJUMRrF0PQ",
        "outputId": "787ffb5b-2799-45b8-86b4-8f1740f95de7"
      },
      "execution_count": 47,
      "outputs": [
        {
          "output_type": "stream",
          "name": "stderr",
          "text": [
            "<ipython-input-27-82bc1397be00>:3: MarkupResemblesLocatorWarning: The input looks more like a filename than markup. You may want to open this file and pass the filehandle into Beautiful Soup.\n",
            "  soup = BeautifulSoup(text, \"html.parser\")\n",
            "<ipython-input-27-82bc1397be00>:3: MarkupResemblesLocatorWarning: The input looks more like a URL than markup. You may want to use an HTTP client like requests to get the document behind the URL, and feed that document to Beautiful Soup.\n",
            "  soup = BeautifulSoup(text, \"html.parser\")\n",
            "<ipython-input-47-9d6f2f99df7d>:4: SettingWithCopyWarning: \n",
            "A value is trying to be set on a copy of a slice from a DataFrame.\n",
            "Try using .loc[row_indexer,col_indexer] = value instead\n",
            "\n",
            "See the caveats in the documentation: https://pandas.pydata.org/pandas-docs/stable/user_guide/indexing.html#returning-a-view-versus-a-copy\n",
            "  df_pre['reviewText'] = df_pre['reviewText'].apply(clean)\n"
          ]
        },
        {
          "output_type": "execute_result",
          "data": {
            "text/plain": [
              "         overall                                         reviewText\n",
              "1512527        5                                      great product\n",
              "1512528        5  i honestly expected these to be cheap pieces o...\n",
              "1512529        5  the straplocks work look and fit very well tha..."
            ],
            "text/html": [
              "\n",
              "  <div id=\"df-6b6fe5f7-78fc-40c2-a9f8-576fb620aa21\">\n",
              "    <div class=\"colab-df-container\">\n",
              "      <div>\n",
              "<style scoped>\n",
              "    .dataframe tbody tr th:only-of-type {\n",
              "        vertical-align: middle;\n",
              "    }\n",
              "\n",
              "    .dataframe tbody tr th {\n",
              "        vertical-align: top;\n",
              "    }\n",
              "\n",
              "    .dataframe thead th {\n",
              "        text-align: right;\n",
              "    }\n",
              "</style>\n",
              "<table border=\"1\" class=\"dataframe\">\n",
              "  <thead>\n",
              "    <tr style=\"text-align: right;\">\n",
              "      <th></th>\n",
              "      <th>overall</th>\n",
              "      <th>reviewText</th>\n",
              "    </tr>\n",
              "  </thead>\n",
              "  <tbody>\n",
              "    <tr>\n",
              "      <th>1512527</th>\n",
              "      <td>5</td>\n",
              "      <td>great product</td>\n",
              "    </tr>\n",
              "    <tr>\n",
              "      <th>1512528</th>\n",
              "      <td>5</td>\n",
              "      <td>i honestly expected these to be cheap pieces o...</td>\n",
              "    </tr>\n",
              "    <tr>\n",
              "      <th>1512529</th>\n",
              "      <td>5</td>\n",
              "      <td>the straplocks work look and fit very well tha...</td>\n",
              "    </tr>\n",
              "  </tbody>\n",
              "</table>\n",
              "</div>\n",
              "      <button class=\"colab-df-convert\" onclick=\"convertToInteractive('df-6b6fe5f7-78fc-40c2-a9f8-576fb620aa21')\"\n",
              "              title=\"Convert this dataframe to an interactive table.\"\n",
              "              style=\"display:none;\">\n",
              "        \n",
              "  <svg xmlns=\"http://www.w3.org/2000/svg\" height=\"24px\"viewBox=\"0 0 24 24\"\n",
              "       width=\"24px\">\n",
              "    <path d=\"M0 0h24v24H0V0z\" fill=\"none\"/>\n",
              "    <path d=\"M18.56 5.44l.94 2.06.94-2.06 2.06-.94-2.06-.94-.94-2.06-.94 2.06-2.06.94zm-11 1L8.5 8.5l.94-2.06 2.06-.94-2.06-.94L8.5 2.5l-.94 2.06-2.06.94zm10 10l.94 2.06.94-2.06 2.06-.94-2.06-.94-.94-2.06-.94 2.06-2.06.94z\"/><path d=\"M17.41 7.96l-1.37-1.37c-.4-.4-.92-.59-1.43-.59-.52 0-1.04.2-1.43.59L10.3 9.45l-7.72 7.72c-.78.78-.78 2.05 0 2.83L4 21.41c.39.39.9.59 1.41.59.51 0 1.02-.2 1.41-.59l7.78-7.78 2.81-2.81c.8-.78.8-2.07 0-2.86zM5.41 20L4 18.59l7.72-7.72 1.47 1.35L5.41 20z\"/>\n",
              "  </svg>\n",
              "      </button>\n",
              "      \n",
              "  <style>\n",
              "    .colab-df-container {\n",
              "      display:flex;\n",
              "      flex-wrap:wrap;\n",
              "      gap: 12px;\n",
              "    }\n",
              "\n",
              "    .colab-df-convert {\n",
              "      background-color: #E8F0FE;\n",
              "      border: none;\n",
              "      border-radius: 50%;\n",
              "      cursor: pointer;\n",
              "      display: none;\n",
              "      fill: #1967D2;\n",
              "      height: 32px;\n",
              "      padding: 0 0 0 0;\n",
              "      width: 32px;\n",
              "    }\n",
              "\n",
              "    .colab-df-convert:hover {\n",
              "      background-color: #E2EBFA;\n",
              "      box-shadow: 0px 1px 2px rgba(60, 64, 67, 0.3), 0px 1px 3px 1px rgba(60, 64, 67, 0.15);\n",
              "      fill: #174EA6;\n",
              "    }\n",
              "\n",
              "    [theme=dark] .colab-df-convert {\n",
              "      background-color: #3B4455;\n",
              "      fill: #D2E3FC;\n",
              "    }\n",
              "\n",
              "    [theme=dark] .colab-df-convert:hover {\n",
              "      background-color: #434B5C;\n",
              "      box-shadow: 0px 1px 3px 1px rgba(0, 0, 0, 0.15);\n",
              "      filter: drop-shadow(0px 1px 2px rgba(0, 0, 0, 0.3));\n",
              "      fill: #FFFFFF;\n",
              "    }\n",
              "  </style>\n",
              "\n",
              "      <script>\n",
              "        const buttonEl =\n",
              "          document.querySelector('#df-6b6fe5f7-78fc-40c2-a9f8-576fb620aa21 button.colab-df-convert');\n",
              "        buttonEl.style.display =\n",
              "          google.colab.kernel.accessAllowed ? 'block' : 'none';\n",
              "\n",
              "        async function convertToInteractive(key) {\n",
              "          const element = document.querySelector('#df-6b6fe5f7-78fc-40c2-a9f8-576fb620aa21');\n",
              "          const dataTable =\n",
              "            await google.colab.kernel.invokeFunction('convertToInteractive',\n",
              "                                                     [key], {});\n",
              "          if (!dataTable) return;\n",
              "\n",
              "          const docLinkHtml = 'Like what you see? Visit the ' +\n",
              "            '<a target=\"_blank\" href=https://colab.research.google.com/notebooks/data_table.ipynb>data table notebook</a>'\n",
              "            + ' to learn more about interactive tables.';\n",
              "          element.innerHTML = '';\n",
              "          dataTable['output_type'] = 'display_data';\n",
              "          await google.colab.output.renderOutput(dataTable, element);\n",
              "          const docLink = document.createElement('div');\n",
              "          docLink.innerHTML = docLinkHtml;\n",
              "          element.appendChild(docLink);\n",
              "        }\n",
              "      </script>\n",
              "    </div>\n",
              "  </div>\n",
              "  "
            ]
          },
          "metadata": {},
          "execution_count": 47
        }
      ]
    },
    {
      "cell_type": "code",
      "source": [
        "df_pre.head()"
      ],
      "metadata": {
        "id": "SdJlho8kLBHd",
        "colab": {
          "base_uri": "https://localhost:8080/",
          "height": 206
        },
        "outputId": "2b986859-b45f-4383-a35d-94e31ed9822c"
      },
      "execution_count": 48,
      "outputs": [
        {
          "output_type": "execute_result",
          "data": {
            "text/plain": [
              "   overall                                         reviewText\n",
              "0        5  crocheting for dummies by karen manthey  susan...\n",
              "1        4                                       very helpful\n",
              "2        5        easy to understand and a prompt service too\n",
              "3        4                      my girlfriend use quite often\n",
              "4        5                    arrived as described very happy"
            ],
            "text/html": [
              "\n",
              "  <div id=\"df-7c230183-43d7-4955-b7b7-7717df2bbfb0\">\n",
              "    <div class=\"colab-df-container\">\n",
              "      <div>\n",
              "<style scoped>\n",
              "    .dataframe tbody tr th:only-of-type {\n",
              "        vertical-align: middle;\n",
              "    }\n",
              "\n",
              "    .dataframe tbody tr th {\n",
              "        vertical-align: top;\n",
              "    }\n",
              "\n",
              "    .dataframe thead th {\n",
              "        text-align: right;\n",
              "    }\n",
              "</style>\n",
              "<table border=\"1\" class=\"dataframe\">\n",
              "  <thead>\n",
              "    <tr style=\"text-align: right;\">\n",
              "      <th></th>\n",
              "      <th>overall</th>\n",
              "      <th>reviewText</th>\n",
              "    </tr>\n",
              "  </thead>\n",
              "  <tbody>\n",
              "    <tr>\n",
              "      <th>0</th>\n",
              "      <td>5</td>\n",
              "      <td>crocheting for dummies by karen manthey  susan...</td>\n",
              "    </tr>\n",
              "    <tr>\n",
              "      <th>1</th>\n",
              "      <td>4</td>\n",
              "      <td>very helpful</td>\n",
              "    </tr>\n",
              "    <tr>\n",
              "      <th>2</th>\n",
              "      <td>5</td>\n",
              "      <td>easy to understand and a prompt service too</td>\n",
              "    </tr>\n",
              "    <tr>\n",
              "      <th>3</th>\n",
              "      <td>4</td>\n",
              "      <td>my girlfriend use quite often</td>\n",
              "    </tr>\n",
              "    <tr>\n",
              "      <th>4</th>\n",
              "      <td>5</td>\n",
              "      <td>arrived as described very happy</td>\n",
              "    </tr>\n",
              "  </tbody>\n",
              "</table>\n",
              "</div>\n",
              "      <button class=\"colab-df-convert\" onclick=\"convertToInteractive('df-7c230183-43d7-4955-b7b7-7717df2bbfb0')\"\n",
              "              title=\"Convert this dataframe to an interactive table.\"\n",
              "              style=\"display:none;\">\n",
              "        \n",
              "  <svg xmlns=\"http://www.w3.org/2000/svg\" height=\"24px\"viewBox=\"0 0 24 24\"\n",
              "       width=\"24px\">\n",
              "    <path d=\"M0 0h24v24H0V0z\" fill=\"none\"/>\n",
              "    <path d=\"M18.56 5.44l.94 2.06.94-2.06 2.06-.94-2.06-.94-.94-2.06-.94 2.06-2.06.94zm-11 1L8.5 8.5l.94-2.06 2.06-.94-2.06-.94L8.5 2.5l-.94 2.06-2.06.94zm10 10l.94 2.06.94-2.06 2.06-.94-2.06-.94-.94-2.06-.94 2.06-2.06.94z\"/><path d=\"M17.41 7.96l-1.37-1.37c-.4-.4-.92-.59-1.43-.59-.52 0-1.04.2-1.43.59L10.3 9.45l-7.72 7.72c-.78.78-.78 2.05 0 2.83L4 21.41c.39.39.9.59 1.41.59.51 0 1.02-.2 1.41-.59l7.78-7.78 2.81-2.81c.8-.78.8-2.07 0-2.86zM5.41 20L4 18.59l7.72-7.72 1.47 1.35L5.41 20z\"/>\n",
              "  </svg>\n",
              "      </button>\n",
              "      \n",
              "  <style>\n",
              "    .colab-df-container {\n",
              "      display:flex;\n",
              "      flex-wrap:wrap;\n",
              "      gap: 12px;\n",
              "    }\n",
              "\n",
              "    .colab-df-convert {\n",
              "      background-color: #E8F0FE;\n",
              "      border: none;\n",
              "      border-radius: 50%;\n",
              "      cursor: pointer;\n",
              "      display: none;\n",
              "      fill: #1967D2;\n",
              "      height: 32px;\n",
              "      padding: 0 0 0 0;\n",
              "      width: 32px;\n",
              "    }\n",
              "\n",
              "    .colab-df-convert:hover {\n",
              "      background-color: #E2EBFA;\n",
              "      box-shadow: 0px 1px 2px rgba(60, 64, 67, 0.3), 0px 1px 3px 1px rgba(60, 64, 67, 0.15);\n",
              "      fill: #174EA6;\n",
              "    }\n",
              "\n",
              "    [theme=dark] .colab-df-convert {\n",
              "      background-color: #3B4455;\n",
              "      fill: #D2E3FC;\n",
              "    }\n",
              "\n",
              "    [theme=dark] .colab-df-convert:hover {\n",
              "      background-color: #434B5C;\n",
              "      box-shadow: 0px 1px 3px 1px rgba(0, 0, 0, 0.15);\n",
              "      filter: drop-shadow(0px 1px 2px rgba(0, 0, 0, 0.3));\n",
              "      fill: #FFFFFF;\n",
              "    }\n",
              "  </style>\n",
              "\n",
              "      <script>\n",
              "        const buttonEl =\n",
              "          document.querySelector('#df-7c230183-43d7-4955-b7b7-7717df2bbfb0 button.colab-df-convert');\n",
              "        buttonEl.style.display =\n",
              "          google.colab.kernel.accessAllowed ? 'block' : 'none';\n",
              "\n",
              "        async function convertToInteractive(key) {\n",
              "          const element = document.querySelector('#df-7c230183-43d7-4955-b7b7-7717df2bbfb0');\n",
              "          const dataTable =\n",
              "            await google.colab.kernel.invokeFunction('convertToInteractive',\n",
              "                                                     [key], {});\n",
              "          if (!dataTable) return;\n",
              "\n",
              "          const docLinkHtml = 'Like what you see? Visit the ' +\n",
              "            '<a target=\"_blank\" href=https://colab.research.google.com/notebooks/data_table.ipynb>data table notebook</a>'\n",
              "            + ' to learn more about interactive tables.';\n",
              "          element.innerHTML = '';\n",
              "          dataTable['output_type'] = 'display_data';\n",
              "          await google.colab.output.renderOutput(dataTable, element);\n",
              "          const docLink = document.createElement('div');\n",
              "          docLink.innerHTML = docLinkHtml;\n",
              "          element.appendChild(docLink);\n",
              "        }\n",
              "      </script>\n",
              "    </div>\n",
              "  </div>\n",
              "  "
            ]
          },
          "metadata": {},
          "execution_count": 48
        }
      ]
    },
    {
      "cell_type": "markdown",
      "source": [
        "### Labelling positive and Negative tweets"
      ],
      "metadata": {
        "id": "ihIk3cvfLEdh"
      }
    },
    {
      "cell_type": "code",
      "source": [
        "df_pre[\"target\"] = np.where(df_pre[\"overall\"] > 3, 1, 0)\n",
        "df_pre.head(2)"
      ],
      "metadata": {
        "id": "yuSKSs-bLCBL"
      },
      "execution_count": null,
      "outputs": []
    },
    {
      "cell_type": "code",
      "source": [
        "from wordcloud import WordCloud\n",
        "# Create new column \"Target\" that stored 0's or 1's. 0 being Negative, 1 being Positive\n",
        "pos = df_pre[df_pre['target']==1]['reviewText']\n",
        "neg = df_pre[df_pre['target']==0]['reviewText']\n",
        "pos.tail(3)"
      ],
      "metadata": {
        "id": "txWwJLlRLL-1"
      },
      "execution_count": null,
      "outputs": []
    },
    {
      "cell_type": "code",
      "source": [
        "df_pre.tail(5)"
      ],
      "metadata": {
        "id": "AFls2OUxLllr"
      },
      "execution_count": null,
      "outputs": []
    },
    {
      "cell_type": "markdown",
      "source": [
        "#### Positive word cloud"
      ],
      "metadata": {
        "id": "HKzeIBZAWhuR"
      }
    },
    {
      "cell_type": "code",
      "source": [
        "text_pos = \" \".join(i for i in pos)\n",
        "# Create a word cloud image\n",
        "wc_pos = WordCloud(width=800, height=400, max_words=100, background_color='white')\n",
        "wc_pos.generate(text_pos)\n",
        "plt.figure(figsize=(14,7))\n",
        "plt.imshow(wc_pos, interpolation='bilinear')\n",
        "plt.axis(\"off\")\n",
        "plt.show()"
      ],
      "metadata": {
        "id": "CIgEiYKfLood"
      },
      "execution_count": null,
      "outputs": []
    },
    {
      "cell_type": "markdown",
      "source": [
        "#### Negative word cloud"
      ],
      "metadata": {
        "id": "zePkHfAEWn0w"
      }
    },
    {
      "cell_type": "code",
      "source": [
        "text_neg = \" \".join(i for i in neg)\n",
        "# Create a word cloud image\n",
        "wc_neg = WordCloud(width=800, height=400, max_words=100, background_color='white')\n",
        "wc_neg.generate(text_neg)\n",
        "plt.figure(figsize=(14,7))\n",
        "plt.imshow(wc_neg, interpolation='bilinear')\n",
        "plt.axis(\"off\")\n",
        "plt.show()"
      ],
      "metadata": {
        "id": "8zs_jYNtXC-k"
      },
      "execution_count": null,
      "outputs": []
    }
  ],
  "metadata": {
    "colab": {
      "toc_visible": true,
      "provenance": [],
      "collapsed_sections": [
        "8X7G-9YZFVYz",
        "zJ4_PPgMj2M5",
        "o7pTVjgjkVf_",
        "OaxjI07bD-Ng",
        "PMxzkH9PEJ6C",
        "loth8DQ1XrUV",
        "N_P6cX4VESzR",
        "_Dp2Iz0TEXkW",
        "c9YGtsRWEcfT",
        "Gg3XGJSkEfUb",
        "F6uyRaDMEjq6",
        "HKzeIBZAWhuR",
        "zePkHfAEWn0w"
      ],
      "authorship_tag": "ABX9TyNOU0E/g0+fH804KE+umpEz",
      "include_colab_link": true
    },
    "kernelspec": {
      "display_name": "Python 3",
      "name": "python3"
    },
    "language_info": {
      "name": "python"
    },
    "accelerator": "TPU"
  },
  "nbformat": 4,
  "nbformat_minor": 0
}