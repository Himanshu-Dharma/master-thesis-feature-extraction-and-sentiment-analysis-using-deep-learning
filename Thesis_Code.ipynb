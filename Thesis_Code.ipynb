{
  "cells": [
    {
      "cell_type": "markdown",
      "metadata": {
        "id": "view-in-github",
        "colab_type": "text"
      },
      "source": [
        "<a href=\"https://colab.research.google.com/github/Himanshu-Dharma/master-thesis-feature-extraction-and-sentiment-analysis-using-deep-learning/blob/main/Thesis_Code.ipynb\" target=\"_parent\"><img src=\"https://colab.research.google.com/assets/colab-badge.svg\" alt=\"Open In Colab\"/></a>"
      ]
    },
    {
      "cell_type": "markdown",
      "source": [
        "# Data Description\n",
        "\n",
        "\n",
        "1. **reviewerID** - ID of the reviewer, e.g. A2SUAM1J3GNN3B\n",
        "2. **asin** - ID of the product, e.g. 0000013714\n",
        "3. **reviewerName** - name of the reviewer\n",
        "4. **vote** - helpful votes of the review\n",
        "5. **style** - a disctionary of the product metadata, e.g., \"Format\" is \"Hardcover\"\n",
        "6. **reviewText** - text of the review\n",
        "7. **overall** - rating of the product\n",
        "8. **summary** - summary of the review\n",
        "9. **unixReviewTime** - time of the review (unix time)\n",
        "10. **reviewTime** - time of the review (raw)\n",
        "11. **image** - images that users post after they have received the product"
      ],
      "metadata": {
        "id": "8X7G-9YZFVYz"
      }
    },
    {
      "cell_type": "code",
      "execution_count": 21,
      "metadata": {
        "colab": {
          "base_uri": "https://localhost:8080/"
        },
        "id": "S_BA9NfPBDBY",
        "outputId": "7c246098-b5df-40e2-b8be-66bf231778be"
      },
      "outputs": [
        {
          "output_type": "stream",
          "name": "stdout",
          "text": [
            "Drive already mounted at /content/drive; to attempt to forcibly remount, call drive.mount(\"/content/drive\", force_remount=True).\n"
          ]
        }
      ],
      "source": [
        "from google.colab import drive\n",
        "drive.mount('/content/drive')"
      ]
    },
    {
      "cell_type": "code",
      "execution_count": 35,
      "metadata": {
        "id": "5Epa967vBmYk"
      },
      "outputs": [],
      "source": [
        "import os\n",
        "import pandas as pd\n",
        "import numpy as np\n",
        "import seaborn as sns\n",
        "import matplotlib.pyplot as plt"
      ]
    },
    {
      "cell_type": "code",
      "execution_count": 23,
      "metadata": {
        "id": "OF7ULS56EMrX"
      },
      "outputs": [],
      "source": [
        "df_primary = pd.read_json(\"/content/drive/MyDrive/ThesisData/thesis_data_primary.json\")"
      ]
    },
    {
      "cell_type": "code",
      "source": [
        "df = df_primary.head(5000)"
      ],
      "metadata": {
        "id": "hZakdTxjhjOl"
      },
      "execution_count": 30,
      "outputs": []
    },
    {
      "cell_type": "code",
      "source": [
        "df.head(5)"
      ],
      "metadata": {
        "colab": {
          "base_uri": "https://localhost:8080/",
          "height": 423
        },
        "id": "HQexeTWU3eyU",
        "outputId": "95a4d67a-f5c7-42b1-a729-6db12f6cc089"
      },
      "execution_count": 31,
      "outputs": [
        {
          "output_type": "execute_result",
          "data": {
            "text/plain": [
              "   overall vote  verified   reviewTime      reviewerID        asin  \\\n",
              "0        5   90     False   08 9, 2004   AXHY24HWOF184  0470536454   \n",
              "1        4    2      True   04 6, 2017  A29OWR79AM796H  0470536454   \n",
              "2        5  NaN      True  03 14, 2017   AUPWU27A7X5F6  0470536454   \n",
              "3        4  NaN      True  02 14, 2017  A1N69A47D4JO6K  0470536454   \n",
              "4        5  NaN      True  01 29, 2017   AHTIQUMVCGBFJ  0470536454   \n",
              "\n",
              "                       style         reviewerName  \\\n",
              "0  {'Format:': ' Paperback'}                Bendy   \n",
              "1  {'Format:': ' Hardcover'}      Amazon Customer   \n",
              "2  {'Format:': ' Paperback'}      Amazon Customer   \n",
              "3  {'Format:': ' Paperback'}  Christopher Burnett   \n",
              "4  {'Format:': ' Paperback'}      Amazon Customer   \n",
              "\n",
              "                                          reviewText  \\\n",
              "0  Crocheting for Dummies by Karen Manthey & Susa...   \n",
              "1                                    Very helpful...   \n",
              "2        EASY TO UNDERSTAND AND A PROMPT SERVICE TOO   \n",
              "3                      My girlfriend use quite often   \n",
              "4                  Arrived as described. Very happy.   \n",
              "\n",
              "                                         summary  unixReviewTime image  \n",
              "0  Terrific Book for Learning the Art of Crochet      1092009600   NaN  \n",
              "1                                     Four Stars      1491436800   NaN  \n",
              "2                                     Five Stars      1489449600   NaN  \n",
              "3                                     Four Stars      1487030400   NaN  \n",
              "4                                    Very happy.      1485648000   NaN  "
            ],
            "text/html": [
              "\n",
              "  <div id=\"df-243a57f4-ecf5-48c7-8e56-7b2b43d4f306\">\n",
              "    <div class=\"colab-df-container\">\n",
              "      <div>\n",
              "<style scoped>\n",
              "    .dataframe tbody tr th:only-of-type {\n",
              "        vertical-align: middle;\n",
              "    }\n",
              "\n",
              "    .dataframe tbody tr th {\n",
              "        vertical-align: top;\n",
              "    }\n",
              "\n",
              "    .dataframe thead th {\n",
              "        text-align: right;\n",
              "    }\n",
              "</style>\n",
              "<table border=\"1\" class=\"dataframe\">\n",
              "  <thead>\n",
              "    <tr style=\"text-align: right;\">\n",
              "      <th></th>\n",
              "      <th>overall</th>\n",
              "      <th>vote</th>\n",
              "      <th>verified</th>\n",
              "      <th>reviewTime</th>\n",
              "      <th>reviewerID</th>\n",
              "      <th>asin</th>\n",
              "      <th>style</th>\n",
              "      <th>reviewerName</th>\n",
              "      <th>reviewText</th>\n",
              "      <th>summary</th>\n",
              "      <th>unixReviewTime</th>\n",
              "      <th>image</th>\n",
              "    </tr>\n",
              "  </thead>\n",
              "  <tbody>\n",
              "    <tr>\n",
              "      <th>0</th>\n",
              "      <td>5</td>\n",
              "      <td>90</td>\n",
              "      <td>False</td>\n",
              "      <td>08 9, 2004</td>\n",
              "      <td>AXHY24HWOF184</td>\n",
              "      <td>0470536454</td>\n",
              "      <td>{'Format:': ' Paperback'}</td>\n",
              "      <td>Bendy</td>\n",
              "      <td>Crocheting for Dummies by Karen Manthey &amp; Susa...</td>\n",
              "      <td>Terrific Book for Learning the Art of Crochet</td>\n",
              "      <td>1092009600</td>\n",
              "      <td>NaN</td>\n",
              "    </tr>\n",
              "    <tr>\n",
              "      <th>1</th>\n",
              "      <td>4</td>\n",
              "      <td>2</td>\n",
              "      <td>True</td>\n",
              "      <td>04 6, 2017</td>\n",
              "      <td>A29OWR79AM796H</td>\n",
              "      <td>0470536454</td>\n",
              "      <td>{'Format:': ' Hardcover'}</td>\n",
              "      <td>Amazon Customer</td>\n",
              "      <td>Very helpful...</td>\n",
              "      <td>Four Stars</td>\n",
              "      <td>1491436800</td>\n",
              "      <td>NaN</td>\n",
              "    </tr>\n",
              "    <tr>\n",
              "      <th>2</th>\n",
              "      <td>5</td>\n",
              "      <td>NaN</td>\n",
              "      <td>True</td>\n",
              "      <td>03 14, 2017</td>\n",
              "      <td>AUPWU27A7X5F6</td>\n",
              "      <td>0470536454</td>\n",
              "      <td>{'Format:': ' Paperback'}</td>\n",
              "      <td>Amazon Customer</td>\n",
              "      <td>EASY TO UNDERSTAND AND A PROMPT SERVICE TOO</td>\n",
              "      <td>Five Stars</td>\n",
              "      <td>1489449600</td>\n",
              "      <td>NaN</td>\n",
              "    </tr>\n",
              "    <tr>\n",
              "      <th>3</th>\n",
              "      <td>4</td>\n",
              "      <td>NaN</td>\n",
              "      <td>True</td>\n",
              "      <td>02 14, 2017</td>\n",
              "      <td>A1N69A47D4JO6K</td>\n",
              "      <td>0470536454</td>\n",
              "      <td>{'Format:': ' Paperback'}</td>\n",
              "      <td>Christopher Burnett</td>\n",
              "      <td>My girlfriend use quite often</td>\n",
              "      <td>Four Stars</td>\n",
              "      <td>1487030400</td>\n",
              "      <td>NaN</td>\n",
              "    </tr>\n",
              "    <tr>\n",
              "      <th>4</th>\n",
              "      <td>5</td>\n",
              "      <td>NaN</td>\n",
              "      <td>True</td>\n",
              "      <td>01 29, 2017</td>\n",
              "      <td>AHTIQUMVCGBFJ</td>\n",
              "      <td>0470536454</td>\n",
              "      <td>{'Format:': ' Paperback'}</td>\n",
              "      <td>Amazon Customer</td>\n",
              "      <td>Arrived as described. Very happy.</td>\n",
              "      <td>Very happy.</td>\n",
              "      <td>1485648000</td>\n",
              "      <td>NaN</td>\n",
              "    </tr>\n",
              "  </tbody>\n",
              "</table>\n",
              "</div>\n",
              "      <button class=\"colab-df-convert\" onclick=\"convertToInteractive('df-243a57f4-ecf5-48c7-8e56-7b2b43d4f306')\"\n",
              "              title=\"Convert this dataframe to an interactive table.\"\n",
              "              style=\"display:none;\">\n",
              "        \n",
              "  <svg xmlns=\"http://www.w3.org/2000/svg\" height=\"24px\"viewBox=\"0 0 24 24\"\n",
              "       width=\"24px\">\n",
              "    <path d=\"M0 0h24v24H0V0z\" fill=\"none\"/>\n",
              "    <path d=\"M18.56 5.44l.94 2.06.94-2.06 2.06-.94-2.06-.94-.94-2.06-.94 2.06-2.06.94zm-11 1L8.5 8.5l.94-2.06 2.06-.94-2.06-.94L8.5 2.5l-.94 2.06-2.06.94zm10 10l.94 2.06.94-2.06 2.06-.94-2.06-.94-.94-2.06-.94 2.06-2.06.94z\"/><path d=\"M17.41 7.96l-1.37-1.37c-.4-.4-.92-.59-1.43-.59-.52 0-1.04.2-1.43.59L10.3 9.45l-7.72 7.72c-.78.78-.78 2.05 0 2.83L4 21.41c.39.39.9.59 1.41.59.51 0 1.02-.2 1.41-.59l7.78-7.78 2.81-2.81c.8-.78.8-2.07 0-2.86zM5.41 20L4 18.59l7.72-7.72 1.47 1.35L5.41 20z\"/>\n",
              "  </svg>\n",
              "      </button>\n",
              "      \n",
              "  <style>\n",
              "    .colab-df-container {\n",
              "      display:flex;\n",
              "      flex-wrap:wrap;\n",
              "      gap: 12px;\n",
              "    }\n",
              "\n",
              "    .colab-df-convert {\n",
              "      background-color: #E8F0FE;\n",
              "      border: none;\n",
              "      border-radius: 50%;\n",
              "      cursor: pointer;\n",
              "      display: none;\n",
              "      fill: #1967D2;\n",
              "      height: 32px;\n",
              "      padding: 0 0 0 0;\n",
              "      width: 32px;\n",
              "    }\n",
              "\n",
              "    .colab-df-convert:hover {\n",
              "      background-color: #E2EBFA;\n",
              "      box-shadow: 0px 1px 2px rgba(60, 64, 67, 0.3), 0px 1px 3px 1px rgba(60, 64, 67, 0.15);\n",
              "      fill: #174EA6;\n",
              "    }\n",
              "\n",
              "    [theme=dark] .colab-df-convert {\n",
              "      background-color: #3B4455;\n",
              "      fill: #D2E3FC;\n",
              "    }\n",
              "\n",
              "    [theme=dark] .colab-df-convert:hover {\n",
              "      background-color: #434B5C;\n",
              "      box-shadow: 0px 1px 3px 1px rgba(0, 0, 0, 0.15);\n",
              "      filter: drop-shadow(0px 1px 2px rgba(0, 0, 0, 0.3));\n",
              "      fill: #FFFFFF;\n",
              "    }\n",
              "  </style>\n",
              "\n",
              "      <script>\n",
              "        const buttonEl =\n",
              "          document.querySelector('#df-243a57f4-ecf5-48c7-8e56-7b2b43d4f306 button.colab-df-convert');\n",
              "        buttonEl.style.display =\n",
              "          google.colab.kernel.accessAllowed ? 'block' : 'none';\n",
              "\n",
              "        async function convertToInteractive(key) {\n",
              "          const element = document.querySelector('#df-243a57f4-ecf5-48c7-8e56-7b2b43d4f306');\n",
              "          const dataTable =\n",
              "            await google.colab.kernel.invokeFunction('convertToInteractive',\n",
              "                                                     [key], {});\n",
              "          if (!dataTable) return;\n",
              "\n",
              "          const docLinkHtml = 'Like what you see? Visit the ' +\n",
              "            '<a target=\"_blank\" href=https://colab.research.google.com/notebooks/data_table.ipynb>data table notebook</a>'\n",
              "            + ' to learn more about interactive tables.';\n",
              "          element.innerHTML = '';\n",
              "          dataTable['output_type'] = 'display_data';\n",
              "          await google.colab.output.renderOutput(dataTable, element);\n",
              "          const docLink = document.createElement('div');\n",
              "          docLink.innerHTML = docLinkHtml;\n",
              "          element.appendChild(docLink);\n",
              "        }\n",
              "      </script>\n",
              "    </div>\n",
              "  </div>\n",
              "  "
            ]
          },
          "metadata": {},
          "execution_count": 31
        }
      ]
    },
    {
      "cell_type": "code",
      "source": [
        "df_primary['overall'].value_counts()"
      ],
      "metadata": {
        "colab": {
          "base_uri": "https://localhost:8080/"
        },
        "id": "zs7K-xPtu0dY",
        "outputId": "1925faa7-4e06-42ed-c612-26f96e4af21e"
      },
      "execution_count": 41,
      "outputs": [
        {
          "output_type": "execute_result",
          "data": {
            "text/plain": [
              "5    984097\n",
              "4    237295\n",
              "1    118102\n",
              "3    106249\n",
              "2     66787\n",
              "Name: overall, dtype: int64"
            ]
          },
          "metadata": {},
          "execution_count": 41
        }
      ]
    },
    {
      "cell_type": "code",
      "source": [
        "# Assuming your ratings are stored in a column called 'rating' in your DataFrame\n",
        "# Replace 'df' with the actual name of your DataFrame\n",
        "ratings = df_primary['overall']\n",
        "\n",
        "# Calculate the count of each rating\n",
        "rating_counts = ratings.value_counts().sort_index()\n",
        "\n",
        "# Plotting the bar graph\n",
        "plt.bar(rating_counts.index, rating_counts.values)\n",
        "\n",
        "# Adding labels and title\n",
        "plt.xlabel('Rating')\n",
        "plt.ylabel('Count')\n",
        "plt.title('Distribution of Ratings')\n",
        "\n",
        "# Displaying the graph\n",
        "plt.show()"
      ],
      "metadata": {
        "colab": {
          "base_uri": "https://localhost:8080/",
          "height": 472
        },
        "id": "lC0DemjU_4oA",
        "outputId": "c1203f92-fb1b-4518-a966-b2b20d042301"
      },
      "execution_count": 40,
      "outputs": [
        {
          "output_type": "display_data",
          "data": {
            "text/plain": [
              "<Figure size 640x480 with 1 Axes>"
            ],
            "image/png": "[encoded data removed]"
          },
          "metadata": {}
        }
      ]
    }
  ],
  "metadata": {
    "colab": {
      "toc_visible": true,
      "provenance": [],
      "authorship_tag": "ABX9TyOGSev6vSCdz6WxEsAevdZw",
      "include_colab_link": true
    },
    "kernelspec": {
      "display_name": "Python 3",
      "name": "python3"
    },
    "language_info": {
      "name": "python"
    },
    "accelerator": "TPU"
  },
  "nbformat": 4,
  "nbformat_minor": 0
}